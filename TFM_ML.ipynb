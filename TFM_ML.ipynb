{
  "nbformat": 4,
  "nbformat_minor": 0,
  "metadata": {
    "colab": {
      "provenance": []
    },
    "kernelspec": {
      "name": "python3",
      "display_name": "Python 3"
    },
    "language_info": {
      "name": "python"
    }
  },
  "cells": [
    {
      "cell_type": "code",
      "execution_count": null,
      "metadata": {
        "id": "xiOK-T-0oxXW"
      },
      "outputs": [],
      "source": [
        "import numpy as np\n",
        "import matplotlib.pyplot as plt\n",
        "import pandas as pd"
      ]
    },
    {
      "cell_type": "code",
      "source": [
        "dataset = pd.read_csv('diabetes2.csv')\n",
        "x = dataset.iloc[:,0:-1].values.astype(float)\n",
        "y = dataset.iloc[:,-1].values.astype(float)\n"
      ],
      "metadata": {
        "id": "ifoCsm25pD19"
      },
      "execution_count": null,
      "outputs": []
    },
    {
      "cell_type": "code",
      "source": [
        "yy = y.reshape(-1,1)\n",
        "\n",
        "from sklearn.preprocessing import StandardScaler\n",
        "StdS_X = StandardScaler()\n",
        "StdS_y = StandardScaler()\n",
        "X = StdS_X.fit_transform(x)\n",
        "Y = StdS_y.fit_transform(yy)"
      ],
      "metadata": {
        "id": "8RFE_NbYr5an"
      },
      "execution_count": null,
      "outputs": []
    },
    {
      "cell_type": "code",
      "source": [
        "from sklearn.model_selection import train_test_split\n",
        "x_train, x_val_and_test, y_train, y_val_and_test = train_test_split(X, Y, test_size=0.3)\n",
        "x_val, x_test, y_val, y_test = train_test_split(x_val_and_test, y_val_and_test, test_size=0.5)"
      ],
      "metadata": {
        "id": "onymzFQ2LRK3"
      },
      "execution_count": null,
      "outputs": []
    },
    {
      "cell_type": "code",
      "source": [
        "from keras.models import Sequential\n",
        "from keras.layers import Dense\n",
        "import tensorflow as tf\n",
        "from keras.layers import Dropout\n",
        "from keras import regularizers\n",
        "\n",
        "model = Sequential([\n",
        "    Dense(1000, activation='relu', kernel_regularizer=regularizers.l2(0.01), input_shape=(8,)),\n",
        "    Dropout(0.3),\n",
        "    Dense(1000, activation='relu', kernel_regularizer=regularizers.l2(0.01)),\n",
        "    Dropout(0.3),\n",
        "    Dense(1000, activation='relu', kernel_regularizer=regularizers.l2(0.01)),\n",
        "    Dropout(0.3),\n",
        "    Dense(1000, activation='relu', kernel_regularizer=regularizers.l2(0.01)),\n",
        "    Dropout(0.3),\n",
        "    Dense(1, activation='sigmoid', kernel_regularizer=regularizers.l2(0.01)),\n",
        "])\n",
        "\n",
        "model.compile(\n",
        "    optimizer='sgd',\n",
        "    loss='binary_crossentropy',\n",
        "    metrics=['accuracy']\n",
        ")\n",
        "\n",
        "hist=model.fit(\n",
        "    x_train, y_train,\n",
        "    batch_size=32, \n",
        "    epochs=120,\n",
        "    validation_data=(x_val, y_val)\n",
        ")"
      ],
      "metadata": {
        "id": "pPFm9PHgLp3b"
      },
      "execution_count": null,
      "outputs": []
    },
    {
      "cell_type": "code",
      "source": [
        "model.evaluate(x_test, y_test)[1]"
      ],
      "metadata": {
        "colab": {
          "base_uri": "https://localhost:8080/"
        },
        "id": "hqDoQGPtOiqJ",
        "outputId": "94bca996-a654-42ec-b48d-64ce07ea9373"
      },
      "execution_count": null,
      "outputs": [
        {
          "output_type": "stream",
          "name": "stdout",
          "text": [
            "1/1 [==============================] - 0s 21ms/step - loss: -886123626758144.0000 - accuracy: 0.0000e+00\n"
          ]
        },
        {
          "output_type": "execute_result",
          "data": {
            "text/plain": [
              "0.0"
            ]
          },
          "metadata": {},
          "execution_count": 6
        }
      ]
    },
    {
      "cell_type": "code",
      "source": [
        "import matplotlib.pyplot as plt\n",
        "\n",
        "\n",
        "plt.plot(hist.history['loss'])\n",
        "plt.plot(hist.history['val_loss'])\n",
        "plt.title('Model loss')\n",
        "plt.ylabel('Loss')\n",
        "plt.xlabel('Epoch')\n",
        "plt.legend(['Train', 'Val'], loc='upper right')\n",
        "plt.show()"
      ],
      "metadata": {
        "colab": {
          "base_uri": "https://localhost:8080/",
          "height": 295
        },
        "id": "-KbBQ85eL6pa",
        "outputId": "9959f058-9e9d-4214-cc1f-d0779ce612f6"
      },
      "execution_count": null,
      "outputs": [
        {
          "output_type": "display_data",
          "data": {
            "text/plain": [
              "<Figure size 432x288 with 1 Axes>"
            ],
            "image/png": "[encoded data removed]"
          },
          "metadata": {
            "needs_background": "light"
          }
        }
      ]
    },
    {
      "cell_type": "code",
      "source": [
        "plt.plot(hist.history['accuracy'])\n",
        "plt.plot(hist.history['val_accuracy'])\n",
        "plt.title('Model accuracy')\n",
        "plt.ylabel('Accuracy')\n",
        "plt.xlabel('Epoch')\n",
        "plt.legend(['Train', 'Val'], loc='lower right')\n",
        "plt.show()"
      ],
      "metadata": {
        "colab": {
          "base_uri": "https://localhost:8080/",
          "height": 295
        },
        "id": "UZ9Ebq1tL7WS",
        "outputId": "365429b3-b965-43cc-82d7-3feff4ee7265"
      },
      "execution_count": null,
      "outputs": [
        {
          "output_type": "display_data",
          "data": {
            "text/plain": [
              "<Figure size 432x288 with 1 Axes>"
            ],
            "image/png": "[encoded data removed]"
          },
          "metadata": {
            "needs_background": "light"
          }
        }
      ]
    },
    {
      "cell_type": "code",
      "source": [
        "\n",
        "# Reading the cleaned numeric car prices data\n",
        "import pandas as pd\n",
        "import numpy as np\n",
        " \n",
        "# To remove the scientific notation from numpy arrays\n",
        "np.set_printoptions(suppress=True)\n",
        " \n",
        "CarPricesDataNumeric=pd.read_csv('main_tfm_ML.csv')\n",
        "CarPricesDataNumeric.head()"
      ],
      "metadata": {
        "colab": {
          "base_uri": "https://localhost:8080/",
          "height": 267
        },
        "id": "ALntbFErradY",
        "outputId": "3d14bcd8-ff71-4bec-8567-f0e5ed09f65f"
      },
      "execution_count": null,
      "outputs": [
        {
          "output_type": "execute_result",
          "data": {
            "text/plain": [
              "   Gel(kPa)  RMS Traction(Pa)  Net Contractile Moment (PJ)  \\\n",
              "0       8.5          99.08633                     -0.38319   \n",
              "1       8.5        1413.06600                      0.26449   \n",
              "2       8.5         448.95790                      0.10495   \n",
              "3       8.5         692.09090                     -0.03357   \n",
              "4       8.5         249.79710                     -0.23914   \n",
              "\n",
              "   Total Strain Energy(PJ)  Max Force(nN)  Area(um2)  Prestress(Pa)  \n",
              "0                  0.00285        7.11858   804.1486       83.58380  \n",
              "1                  0.53939      160.82640   912.1742      295.60130  \n",
              "2                  0.03287       23.04144   701.4072       85.39752  \n",
              "3                  0.04988        5.00578   450.7972       53.76590  \n",
              "4                  0.00547        5.59892   332.9857       85.84090  "
            ],
            "text/html": [
              "\n",
              "  <div id=\"df-b3703d19-86bc-471e-9977-b5846c88c021\">\n",
              "    <div class=\"colab-df-container\">\n",
              "      <div>\n",
              "<style scoped>\n",
              "    .dataframe tbody tr th:only-of-type {\n",
              "        vertical-align: middle;\n",
              "    }\n",
              "\n",
              "    .dataframe tbody tr th {\n",
              "        vertical-align: top;\n",
              "    }\n",
              "\n",
              "    .dataframe thead th {\n",
              "        text-align: right;\n",
              "    }\n",
              "</style>\n",
              "<table border=\"1\" class=\"dataframe\">\n",
              "  <thead>\n",
              "    <tr style=\"text-align: right;\">\n",
              "      <th></th>\n",
              "      <th>Gel(kPa)</th>\n",
              "      <th>RMS Traction(Pa)</th>\n",
              "      <th>Net Contractile Moment (PJ)</th>\n",
              "      <th>Total Strain Energy(PJ)</th>\n",
              "      <th>Max Force(nN)</th>\n",
              "      <th>Area(um2)</th>\n",
              "      <th>Prestress(Pa)</th>\n",
              "    </tr>\n",
              "  </thead>\n",
              "  <tbody>\n",
              "    <tr>\n",
              "      <th>0</th>\n",
              "      <td>8.5</td>\n",
              "      <td>99.08633</td>\n",
              "      <td>-0.38319</td>\n",
              "      <td>0.00285</td>\n",
              "      <td>7.11858</td>\n",
              "      <td>804.1486</td>\n",
              "      <td>83.58380</td>\n",
              "    </tr>\n",
              "    <tr>\n",
              "      <th>1</th>\n",
              "      <td>8.5</td>\n",
              "      <td>1413.06600</td>\n",
              "      <td>0.26449</td>\n",
              "      <td>0.53939</td>\n",
              "      <td>160.82640</td>\n",
              "      <td>912.1742</td>\n",
              "      <td>295.60130</td>\n",
              "    </tr>\n",
              "    <tr>\n",
              "      <th>2</th>\n",
              "      <td>8.5</td>\n",
              "      <td>448.95790</td>\n",
              "      <td>0.10495</td>\n",
              "      <td>0.03287</td>\n",
              "      <td>23.04144</td>\n",
              "      <td>701.4072</td>\n",
              "      <td>85.39752</td>\n",
              "    </tr>\n",
              "    <tr>\n",
              "      <th>3</th>\n",
              "      <td>8.5</td>\n",
              "      <td>692.09090</td>\n",
              "      <td>-0.03357</td>\n",
              "      <td>0.04988</td>\n",
              "      <td>5.00578</td>\n",
              "      <td>450.7972</td>\n",
              "      <td>53.76590</td>\n",
              "    </tr>\n",
              "    <tr>\n",
              "      <th>4</th>\n",
              "      <td>8.5</td>\n",
              "      <td>249.79710</td>\n",
              "      <td>-0.23914</td>\n",
              "      <td>0.00547</td>\n",
              "      <td>5.59892</td>\n",
              "      <td>332.9857</td>\n",
              "      <td>85.84090</td>\n",
              "    </tr>\n",
              "  </tbody>\n",
              "</table>\n",
              "</div>\n",
              "      <button class=\"colab-df-convert\" onclick=\"convertToInteractive('df-b3703d19-86bc-471e-9977-b5846c88c021')\"\n",
              "              title=\"Convert this dataframe to an interactive table.\"\n",
              "              style=\"display:none;\">\n",
              "        \n",
              "  <svg xmlns=\"http://www.w3.org/2000/svg\" height=\"24px\"viewBox=\"0 0 24 24\"\n",
              "       width=\"24px\">\n",
              "    <path d=\"M0 0h24v24H0V0z\" fill=\"none\"/>\n",
              "    <path d=\"M18.56 5.44l.94 2.06.94-2.06 2.06-.94-2.06-.94-.94-2.06-.94 2.06-2.06.94zm-11 1L8.5 8.5l.94-2.06 2.06-.94-2.06-.94L8.5 2.5l-.94 2.06-2.06.94zm10 10l.94 2.06.94-2.06 2.06-.94-2.06-.94-.94-2.06-.94 2.06-2.06.94z\"/><path d=\"M17.41 7.96l-1.37-1.37c-.4-.4-.92-.59-1.43-.59-.52 0-1.04.2-1.43.59L10.3 9.45l-7.72 7.72c-.78.78-.78 2.05 0 2.83L4 21.41c.39.39.9.59 1.41.59.51 0 1.02-.2 1.41-.59l7.78-7.78 2.81-2.81c.8-.78.8-2.07 0-2.86zM5.41 20L4 18.59l7.72-7.72 1.47 1.35L5.41 20z\"/>\n",
              "  </svg>\n",
              "      </button>\n",
              "      \n",
              "  <style>\n",
              "    .colab-df-container {\n",
              "      display:flex;\n",
              "      flex-wrap:wrap;\n",
              "      gap: 12px;\n",
              "    }\n",
              "\n",
              "    .colab-df-convert {\n",
              "      background-color: #E8F0FE;\n",
              "      border: none;\n",
              "      border-radius: 50%;\n",
              "      cursor: pointer;\n",
              "      display: none;\n",
              "      fill: #1967D2;\n",
              "      height: 32px;\n",
              "      padding: 0 0 0 0;\n",
              "      width: 32px;\n",
              "    }\n",
              "\n",
              "    .colab-df-convert:hover {\n",
              "      background-color: #E2EBFA;\n",
              "      box-shadow: 0px 1px 2px rgba(60, 64, 67, 0.3), 0px 1px 3px 1px rgba(60, 64, 67, 0.15);\n",
              "      fill: #174EA6;\n",
              "    }\n",
              "\n",
              "    [theme=dark] .colab-df-convert {\n",
              "      background-color: #3B4455;\n",
              "      fill: #D2E3FC;\n",
              "    }\n",
              "\n",
              "    [theme=dark] .colab-df-convert:hover {\n",
              "      background-color: #434B5C;\n",
              "      box-shadow: 0px 1px 3px 1px rgba(0, 0, 0, 0.15);\n",
              "      filter: drop-shadow(0px 1px 2px rgba(0, 0, 0, 0.3));\n",
              "      fill: #FFFFFF;\n",
              "    }\n",
              "  </style>\n",
              "\n",
              "      <script>\n",
              "        const buttonEl =\n",
              "          document.querySelector('#df-b3703d19-86bc-471e-9977-b5846c88c021 button.colab-df-convert');\n",
              "        buttonEl.style.display =\n",
              "          google.colab.kernel.accessAllowed ? 'block' : 'none';\n",
              "\n",
              "        async function convertToInteractive(key) {\n",
              "          const element = document.querySelector('#df-b3703d19-86bc-471e-9977-b5846c88c021');\n",
              "          const dataTable =\n",
              "            await google.colab.kernel.invokeFunction('convertToInteractive',\n",
              "                                                     [key], {});\n",
              "          if (!dataTable) return;\n",
              "\n",
              "          const docLinkHtml = 'Like what you see? Visit the ' +\n",
              "            '<a target=\"_blank\" href=https://colab.research.google.com/notebooks/data_table.ipynb>data table notebook</a>'\n",
              "            + ' to learn more about interactive tables.';\n",
              "          element.innerHTML = '';\n",
              "          dataTable['output_type'] = 'display_data';\n",
              "          await google.colab.output.renderOutput(dataTable, element);\n",
              "          const docLink = document.createElement('div');\n",
              "          docLink.innerHTML = docLinkHtml;\n",
              "          element.appendChild(docLink);\n",
              "        }\n",
              "      </script>\n",
              "    </div>\n",
              "  </div>\n",
              "  "
            ]
          },
          "metadata": {},
          "execution_count": 34
        }
      ]
    },
    {
      "cell_type": "code",
      "source": [
        "# Separate Target Variable and Predictor Variables\n",
        "TargetVariable=['Prestress(Pa)']\n",
        "Predictors=['Gel(kPa)', 'RMS Traction(Pa)', 'Net Contractile Moment (PJ)', 'Total Strain Energy(PJ)', 'Max Force(nN)', 'Area(um2)']\n",
        "\n",
        "X=CarPricesDataNumeric[Predictors].values\n",
        "y=CarPricesDataNumeric[TargetVariable].values\n",
        "\n",
        "### Sandardization of data ###\n",
        "from sklearn.preprocessing import StandardScaler\n",
        "PredictorScaler=StandardScaler()\n",
        "TargetVarScaler=StandardScaler()\n",
        "\n",
        "# Storing the fit object for later reference\n",
        "PredictorScalerFit=PredictorScaler.fit(X)\n",
        "TargetVarScalerFit=TargetVarScaler.fit(y)\n",
        "\n",
        "# Generating the standardized values of X and y\n",
        "X=PredictorScalerFit.transform(X)\n",
        "y=TargetVarScalerFit.transform(y)\n",
        "\n",
        "# Split the data into training and testing set\n",
        "from sklearn.model_selection import train_test_split\n",
        "X_train, X_test, y_train, y_test = train_test_split(X, y, test_size=0.2, random_state=42)\n",
        "\n",
        "# Quick sanity check with the shapes of Training and testing datasets\n",
        "print(X_train.shape)\n",
        "print(y_train.shape)\n",
        "print(X_test.shape)\n",
        "print(y_test.shape)"
      ],
      "metadata": {
        "colab": {
          "base_uri": "https://localhost:8080/"
        },
        "id": "RaWf3L5dsNJm",
        "outputId": "548a1c93-3412-4a09-f5f1-baac841551dc"
      },
      "execution_count": null,
      "outputs": [
        {
          "output_type": "stream",
          "name": "stdout",
          "text": [
            "(58, 6)\n",
            "(58, 1)\n",
            "(15, 6)\n",
            "(15, 1)\n"
          ]
        }
      ]
    },
    {
      "cell_type": "code",
      "source": [
        "from keras.models import Sequential\n",
        "from keras.layers import Dense\n",
        " \n",
        "# create ANN model\n",
        "model = Sequential()\n",
        " \n",
        "# Defining the Input layer and FIRST hidden layer, both are same!\n",
        "model.add(Dense(units=1024, input_dim=6, kernel_initializer='normal', activation='relu'))\n",
        " \n",
        "# Defining the Second layer of the model\n",
        "# after the first layer we don't have to specify input_dim as keras configure it automatically\n",
        "model.add(Dense(units=1024, kernel_initializer='normal', activation='relu'))\n",
        " \n",
        "# The output neuron is a single fully connected node \n",
        "# Since we will be predicting a single number\n",
        "model.add(Dense(1, kernel_initializer='normal'))\n",
        " \n",
        "# Compiling the model\n",
        "model.compile(loss='mean_squared_error', optimizer='adam')\n",
        " \n",
        "# Fitting the ANN to the Training set\n",
        "model.fit(X_train, y_train ,batch_size = 4, epochs = 12, verbose=1)"
      ],
      "metadata": {
        "id": "qNca9LnHtXra"
      },
      "execution_count": null,
      "outputs": []
    },
    {
      "cell_type": "code",
      "source": [
        "# Defining a function to find the best parameters for ANN\n",
        "def FunctionFindBestParams(X_train, y_train, X_test, y_test):\n",
        "    \n",
        "    # Defining the list of hyper parameters to try\n",
        "    batch_size_list=[5, 10, 15, 20]\n",
        "    epoch_list  =   [5, 10, 50, 100]\n",
        "    \n",
        "    import pandas as pd\n",
        "    SearchResultsData=pd.DataFrame(columns=['TrialNumber', 'Parameters', 'Accuracy'])\n",
        "    \n",
        "    # initializing the trials\n",
        "    TrialNumber=0\n",
        "    for batch_size_trial in batch_size_list:\n",
        "        for epochs_trial in epoch_list:\n",
        "            TrialNumber+=1\n",
        "            # create ANN model\n",
        "            model = Sequential()\n",
        "            # Defining the first layer of the model\n",
        "            model.add(Dense(units=5, input_dim=X_train.shape[1], kernel_initializer='normal', activation='relu'))\n",
        "\n",
        "            # Defining the Second layer of the model\n",
        "            model.add(Dense(units=5, kernel_initializer='normal', activation='relu'))\n",
        "\n",
        "            # The output neuron is a single fully connected node \n",
        "            # Since we will be predicting a single number\n",
        "            model.add(Dense(1, kernel_initializer='normal'))\n",
        "\n",
        "            # Compiling the model\n",
        "            model.compile(loss='mean_squared_error', optimizer='adam')\n",
        "\n",
        "            # Fitting the ANN to the Training set\n",
        "            model.fit(X_train, y_train ,batch_size = batch_size_trial, epochs = epochs_trial, verbose=0)\n",
        "\n",
        "            MAPE = np.mean(100 * (np.abs(y_test-model.predict(X_test))/y_test))\n",
        "            \n",
        "            # printing the results of the current iteration\n",
        "            print(TrialNumber, 'Parameters:','batch_size:', batch_size_trial,'-', 'epochs:',epochs_trial, 'Accuracy:', 100-MAPE)\n",
        "            \n",
        "            SearchResultsData=SearchResultsData.append(pd.DataFrame(data=[[TrialNumber, str(batch_size_trial)+'-'+str(epochs_trial), 100-MAPE]],\n",
        "                                                                    columns=['TrialNumber', 'Parameters', 'Accuracy'] ))\n",
        "    return(SearchResultsData)\n",
        "\n",
        "\n",
        "######################################################\n",
        "# Calling the function\n",
        "ResultsData=FunctionFindBestParams(X_train, y_train, X_test, y_test)"
      ],
      "metadata": {
        "id": "-Ant7Z04uhB5"
      },
      "execution_count": null,
      "outputs": []
    },
    {
      "cell_type": "code",
      "source": [
        "%matplotlib inline\n",
        "ResultsData.plot(x='Parameters', y='Accuracy', figsize=(15,4), kind='line')"
      ],
      "metadata": {
        "id": "I6FwXdwCuqRl"
      },
      "execution_count": null,
      "outputs": []
    },
    {
      "cell_type": "code",
      "source": [
        "# Fitting the ANN to the Training set\n",
        "#model.fit(X_train, y_train ,batch_size = 15, epochs = 5, verbose=0)\n",
        " \n",
        "# Generating Predictions on testing data\n",
        "Predictions=model.predict(X_test)\n",
        " \n",
        "# Scaling the predicted Price data back to original price scale\n",
        "Predictions=TargetVarScalerFit.inverse_transform(Predictions)\n",
        " \n",
        "# Scaling the y_test Price data back to original price scale\n",
        "y_test_orig=TargetVarScalerFit.inverse_transform(y_test)\n",
        " \n",
        "# Scaling the test data back to original scale\n",
        "Test_Data=PredictorScalerFit.inverse_transform(X_test)\n",
        " \n",
        "TestingData=pd.DataFrame(data=Test_Data, columns=Predictors)\n",
        "TestingData['Prestress']=y_test_orig\n",
        "TestingData['PredictedPrestress']=Predictions\n",
        "TestingData.head()"
      ],
      "metadata": {
        "id": "MQGw-O6TvAb9"
      },
      "execution_count": null,
      "outputs": []
    },
    {
      "cell_type": "code",
      "source": [
        "# Computing the absolute percent error\n",
        "APE=100*(abs(TestingData['Prestress']-TestingData['PredictedPrestress'])/TestingData['Prestress'])\n",
        "TestingData['APE']=APE\n",
        "\n",
        "print('The Accuracy of ANN model is:', 100-np.mean(APE))\n",
        "TestingData.head()"
      ],
      "metadata": {
        "id": "XhbSZ5iTvZrH"
      },
      "execution_count": null,
      "outputs": []
    },
    {
      "cell_type": "code",
      "source": [
        "# Function to generate Deep ANN model \n",
        "def make_regression_ann(Optimizer_trial):\n",
        "    from keras.models import Sequential\n",
        "    from keras.layers import Dense\n",
        "    \n",
        "    model = Sequential()\n",
        "    model.add(Dense(units=5, input_dim=6, kernel_initializer='normal', activation='relu'))\n",
        "    model.add(Dense(units=5, kernel_initializer='normal', activation='relu'))\n",
        "    model.add(Dense(1, kernel_initializer='normal'))\n",
        "    model.compile(loss='mean_squared_error', optimizer=Optimizer_trial)\n",
        "    return model\n",
        "\n",
        "###########################################\n",
        "from sklearn.model_selection import GridSearchCV\n",
        "from keras.wrappers.scikit_learn import KerasRegressor\n",
        "\n",
        "# Listing all the parameters to try\n",
        "Parameter_Trials={'batch_size':[10,20,30],\n",
        "                      'epochs':[10,20],\n",
        "                    'Optimizer_trial':['adam', 'rmsprop']\n",
        "                 }\n",
        "\n",
        "# Creating the regression ANN model\n",
        "RegModel=KerasRegressor(make_regression_ann, verbose=0)\n",
        "\n",
        "###########################################\n",
        "from sklearn.metrics import make_scorer\n",
        "\n",
        "# Defining a custom function to calculate accuracy\n",
        "def Accuracy_Score(orig,pred):\n",
        "    MAPE = np.mean(100 * (np.abs(orig-pred)/orig))\n",
        "    print('#'*70,'Accuracy:', 100-MAPE)\n",
        "    return(100-MAPE)\n",
        "\n",
        "custom_Scoring=make_scorer(Accuracy_Score, greater_is_better=True)\n",
        "\n",
        "#########################################\n",
        "# Creating the Grid search space\n",
        "# See different scoring methods by using sklearn.metrics.SCORERS.keys()\n",
        "grid_search=GridSearchCV(estimator=RegModel, \n",
        "                         param_grid=Parameter_Trials, \n",
        "                         scoring=custom_Scoring, \n",
        "                         cv=5)\n",
        "\n",
        "#########################################\n",
        "# Measuring how much time it took to find the best params\n",
        "import time\n",
        "StartTime=time.time()\n",
        "\n",
        "# Running Grid Search for different paramenters\n",
        "grid_search.fit(X,y, verbose=1)\n",
        "\n",
        "EndTime=time.time()\n",
        "print(\"########## Total Time Taken: \", round((EndTime-StartTime)/60), 'Minutes')\n",
        "\n",
        "print('### Printing Best parameters ###')\n",
        "grid_search.best_params_"
      ],
      "metadata": {
        "id": "chb8DgZLvrNx"
      },
      "execution_count": null,
      "outputs": []
    },
    {
      "cell_type": "code",
      "source": [
        "import pandas as pd\n",
        "import matplotlib.pyplot as plt\n",
        "import numpy as np\n",
        "\n",
        "# Data preprocessing\n",
        "from sklearn.preprocessing import StandardScaler\n",
        "from sklearn.model_selection import train_test_split\n",
        "\n",
        "# Neural Net modules\n",
        "from keras.models import Sequential\n",
        "from keras.layers import Dense, Dropout\n",
        "from keras.callbacks import EarlyStopping"
      ],
      "metadata": {
        "id": "XQ0JV2tT7klp"
      },
      "execution_count": null,
      "outputs": []
    },
    {
      "cell_type": "code",
      "source": [
        "df = pd.read_csv('/content/main_tfm_ML.csv')\n",
        "df.info()\n",
        "\n",
        "# drop any rows with missing values\n",
        "df.dropna(axis=0, inplace=True)\n",
        "df.info()\n",
        "\n",
        "# convert categorical variable into dummy variables\n",
        "#df = pd.get_dummies(df, columns=['ocean_proximity'])\n",
        "#df.info()"
      ],
      "metadata": {
        "colab": {
          "base_uri": "https://localhost:8080/"
        },
        "id": "QQeTaQ0X7rrZ",
        "outputId": "3f7768e2-ff7e-4a3c-b526-021b2cb19fd2"
      },
      "execution_count": null,
      "outputs": [
        {
          "output_type": "stream",
          "name": "stdout",
          "text": [
            "<class 'pandas.core.frame.DataFrame'>\n",
            "RangeIndex: 73 entries, 0 to 72\n",
            "Data columns (total 7 columns):\n",
            " #   Column                       Non-Null Count  Dtype  \n",
            "---  ------                       --------------  -----  \n",
            " 0   Gel(kPa)                     73 non-null     float64\n",
            " 1   RMS Traction(Pa)             73 non-null     float64\n",
            " 2   Net Contractile Moment (PJ)  73 non-null     float64\n",
            " 3   Total Strain Energy(PJ)      73 non-null     float64\n",
            " 4   Max Force(nN)                73 non-null     float64\n",
            " 5   Area(um2)                    73 non-null     float64\n",
            " 6   Prestress(Pa)                73 non-null     float64\n",
            "dtypes: float64(7)\n",
            "memory usage: 4.1 KB\n",
            "<class 'pandas.core.frame.DataFrame'>\n",
            "Int64Index: 73 entries, 0 to 72\n",
            "Data columns (total 7 columns):\n",
            " #   Column                       Non-Null Count  Dtype  \n",
            "---  ------                       --------------  -----  \n",
            " 0   Gel(kPa)                     73 non-null     float64\n",
            " 1   RMS Traction(Pa)             73 non-null     float64\n",
            " 2   Net Contractile Moment (PJ)  73 non-null     float64\n",
            " 3   Total Strain Energy(PJ)      73 non-null     float64\n",
            " 4   Max Force(nN)                73 non-null     float64\n",
            " 5   Area(um2)                    73 non-null     float64\n",
            " 6   Prestress(Pa)                73 non-null     float64\n",
            "dtypes: float64(7)\n",
            "memory usage: 4.6 KB\n"
          ]
        }
      ]
    },
    {
      "cell_type": "code",
      "source": [
        "from keras.backend import reshape\n",
        "# our target variable is 'Prestress'\n",
        "y = df['RMS Traction(Pa)']\n",
        "X = df.drop('RMS Traction(Pa)', axis=1)\n",
        "print(X.shape, y.shape)\n",
        "\n",
        "# convert to numpy array\n",
        "X = np.array(X)\n",
        "y = np.array(y)\n",
        "\n",
        "#Standarzing the variable\n",
        "y = y.reshape(-1,1)\n",
        "\n",
        "StdS_X = StandardScaler()\n",
        "StdS_y = StandardScaler()\n",
        "X = StdS_X.fit_transform(X)\n",
        "y = StdS_y.fit_transform(y)\n",
        "\n",
        "\n",
        "\n",
        "# split into X_train and X_test\n",
        "# always split into X_train, X_test first THEN apply minmax scaler\n",
        "X_train, X_test, y_train, y_test = train_test_split(X, y,\n",
        "                                                    test_size=0.2,\n",
        "                                                    random_state=123)\n",
        "\n",
        "\n",
        "\n",
        "print(X_train.shape, X_test.shape, y_train.shape, y_test.shape)\n",
        "\n",
        "# use minMax scaler\n",
        "#min_max_scaler = MinMaxScaler()\n",
        "#X_train = min_max_scaler.fit_transform(X_train)\n",
        "#X_test = min_max_scaler.transform(X_test)\n",
        "\n",
        "\n"
      ],
      "metadata": {
        "colab": {
          "base_uri": "https://localhost:8080/"
        },
        "id": "SPxigRQE749v",
        "outputId": "19f58a35-dd4f-4159-e742-9380ac1bf24f"
      },
      "execution_count": null,
      "outputs": [
        {
          "output_type": "stream",
          "name": "stdout",
          "text": [
            "(73, 6) (73,)\n",
            "(58, 6) (15, 6) (58, 1) (15, 1)\n"
          ]
        }
      ]
    },
    {
      "cell_type": "code",
      "source": [
        "from keras.layers import Dense, Dropout\n",
        "\n",
        "# Insert the dropout layer\n",
        "model = Sequential()\n",
        "model.add(Dense(1024, input_shape=(X_train.shape[1],), activation='relu')) # (features,)\n",
        "model.add(Dropout(0.5)) # specify a percentage between 0 and 0.5, or larger\n",
        "model.add(Dense(512, activation='relu'))\n",
        "model.add(Dropout(0.5)) # specify a percentage between 0 and 0.5, or larger\n",
        "model.add(Dense(256, activation='relu'))\n",
        "model.add(Dropout(0.5)) # specify a percentage between 0 and 0.5, or larger\n",
        "model.add(Dense(1)) # output node\n",
        "model.summary() # see what your model looks like\n",
        "\n",
        "model.compile(optimizer='adam', loss='mse', metrics=['mae'])\n",
        "\n",
        "# early stopping callback\n",
        "es = EarlyStopping(monitor='val_loss',\n",
        "                   mode='min',\n",
        "                   patience=30,\n",
        "                   restore_best_weights = True)\n",
        "\n",
        "# fit the model!\n",
        "# attach it to a new variable called 'history' in case\n",
        "# to look at the learning curves\n",
        "history = model.fit(X_train, y_train,\n",
        "                    validation_data = (X_test, y_test),\n",
        "                    callbacks=[es],\n",
        "                    epochs=5000,\n",
        "                    batch_size=4,\n",
        "                    verbose=1)"
      ],
      "metadata": {
        "colab": {
          "base_uri": "https://localhost:8080/"
        },
        "id": "0NheQVYt8jSC",
        "outputId": "54eef23b-32c1-4508-cfe2-132354c92e3d"
      },
      "execution_count": null,
      "outputs": [
        {
          "output_type": "stream",
          "name": "stdout",
          "text": [
            "Model: \"sequential_8\"\n",
            "_________________________________________________________________\n",
            " Layer (type)                Output Shape              Param #   \n",
            "=================================================================\n",
            " dense_14 (Dense)            (None, 1024)              7168      \n",
            "                                                                 \n",
            " dropout_6 (Dropout)         (None, 1024)              0         \n",
            "                                                                 \n",
            " dense_15 (Dense)            (None, 512)               524800    \n",
            "                                                                 \n",
            " dropout_7 (Dropout)         (None, 512)               0         \n",
            "                                                                 \n",
            " dense_16 (Dense)            (None, 256)               131328    \n",
            "                                                                 \n",
            " dropout_8 (Dropout)         (None, 256)               0         \n",
            "                                                                 \n",
            " dense_17 (Dense)            (None, 1)                 257       \n",
            "                                                                 \n",
            "=================================================================\n",
            "Total params: 663,553\n",
            "Trainable params: 663,553\n",
            "Non-trainable params: 0\n",
            "_________________________________________________________________\n",
            "Epoch 1/5000\n",
            "15/15 [==============================] - 1s 46ms/step - loss: 0.4273 - mae: 0.3353 - val_loss: 2.3088 - val_mae: 0.5510\n",
            "Epoch 2/5000\n",
            "15/15 [==============================] - 0s 19ms/step - loss: 0.2948 - mae: 0.2498 - val_loss: 2.0282 - val_mae: 0.4920\n",
            "Epoch 3/5000\n",
            "15/15 [==============================] - 0s 18ms/step - loss: 0.3283 - mae: 0.2895 - val_loss: 1.6944 - val_mae: 0.5107\n",
            "Epoch 4/5000\n",
            "15/15 [==============================] - 0s 24ms/step - loss: 0.2900 - mae: 0.2678 - val_loss: 2.8034 - val_mae: 0.5670\n",
            "Epoch 5/5000\n",
            "15/15 [==============================] - 0s 22ms/step - loss: 0.4015 - mae: 0.2958 - val_loss: 2.0218 - val_mae: 0.5049\n",
            "Epoch 6/5000\n",
            "15/15 [==============================] - 0s 18ms/step - loss: 0.3104 - mae: 0.2978 - val_loss: 2.0772 - val_mae: 0.5761\n",
            "Epoch 7/5000\n",
            "15/15 [==============================] - 0s 18ms/step - loss: 0.2674 - mae: 0.2551 - val_loss: 1.8880 - val_mae: 0.5181\n",
            "Epoch 8/5000\n",
            "15/15 [==============================] - 0s 13ms/step - loss: 0.2525 - mae: 0.2282 - val_loss: 2.6564 - val_mae: 0.5821\n",
            "Epoch 9/5000\n",
            "15/15 [==============================] - 0s 12ms/step - loss: 1.0137 - mae: 0.3978 - val_loss: 3.2394 - val_mae: 0.6106\n",
            "Epoch 10/5000\n",
            "15/15 [==============================] - 0s 12ms/step - loss: 0.4109 - mae: 0.2670 - val_loss: 3.0150 - val_mae: 0.6049\n",
            "Epoch 11/5000\n",
            "15/15 [==============================] - 0s 11ms/step - loss: 0.3343 - mae: 0.2713 - val_loss: 2.2740 - val_mae: 0.5896\n",
            "Epoch 12/5000\n",
            "15/15 [==============================] - 0s 13ms/step - loss: 0.1514 - mae: 0.2064 - val_loss: 2.1934 - val_mae: 0.5440\n",
            "Epoch 13/5000\n",
            "15/15 [==============================] - 0s 11ms/step - loss: 0.1778 - mae: 0.2236 - val_loss: 0.9633 - val_mae: 0.4488\n",
            "Epoch 14/5000\n",
            "15/15 [==============================] - 0s 11ms/step - loss: 0.2945 - mae: 0.2689 - val_loss: 2.4571 - val_mae: 0.5952\n",
            "Epoch 15/5000\n",
            "15/15 [==============================] - 0s 11ms/step - loss: 0.2727 - mae: 0.2489 - val_loss: 1.2490 - val_mae: 0.5145\n",
            "Epoch 16/5000\n",
            "15/15 [==============================] - 0s 11ms/step - loss: 0.0917 - mae: 0.1605 - val_loss: 1.5626 - val_mae: 0.5405\n",
            "Epoch 17/5000\n",
            "15/15 [==============================] - 0s 11ms/step - loss: 0.1242 - mae: 0.1903 - val_loss: 2.9218 - val_mae: 0.6569\n",
            "Epoch 18/5000\n",
            "15/15 [==============================] - 0s 12ms/step - loss: 0.0771 - mae: 0.1812 - val_loss: 2.4363 - val_mae: 0.6586\n",
            "Epoch 19/5000\n",
            "15/15 [==============================] - 0s 12ms/step - loss: 0.3023 - mae: 0.2534 - val_loss: 4.2137 - val_mae: 0.7517\n",
            "Epoch 20/5000\n",
            "15/15 [==============================] - 0s 11ms/step - loss: 0.1137 - mae: 0.1778 - val_loss: 2.1896 - val_mae: 0.6454\n",
            "Epoch 21/5000\n",
            "15/15 [==============================] - 0s 13ms/step - loss: 0.1421 - mae: 0.1899 - val_loss: 3.9765 - val_mae: 0.7304\n",
            "Epoch 22/5000\n",
            "15/15 [==============================] - 0s 10ms/step - loss: 0.1360 - mae: 0.2058 - val_loss: 2.3621 - val_mae: 0.6286\n",
            "Epoch 23/5000\n",
            "15/15 [==============================] - 0s 12ms/step - loss: 0.2439 - mae: 0.2272 - val_loss: 3.7506 - val_mae: 0.7000\n",
            "Epoch 24/5000\n",
            "15/15 [==============================] - 0s 14ms/step - loss: 0.2840 - mae: 0.2597 - val_loss: 1.0137 - val_mae: 0.4954\n",
            "Epoch 25/5000\n",
            "15/15 [==============================] - 0s 11ms/step - loss: 0.1005 - mae: 0.1659 - val_loss: 1.6361 - val_mae: 0.5485\n",
            "Epoch 26/5000\n",
            "15/15 [==============================] - 0s 12ms/step - loss: 0.3707 - mae: 0.2704 - val_loss: 3.9694 - val_mae: 0.6785\n",
            "Epoch 27/5000\n",
            "15/15 [==============================] - 0s 12ms/step - loss: 0.1967 - mae: 0.2389 - val_loss: 0.9934 - val_mae: 0.4920\n",
            "Epoch 28/5000\n",
            "15/15 [==============================] - 0s 11ms/step - loss: 0.2725 - mae: 0.2199 - val_loss: 2.1907 - val_mae: 0.5682\n",
            "Epoch 29/5000\n",
            "15/15 [==============================] - 0s 22ms/step - loss: 0.2032 - mae: 0.2228 - val_loss: 1.9733 - val_mae: 0.5917\n",
            "Epoch 30/5000\n",
            "15/15 [==============================] - 0s 13ms/step - loss: 0.1337 - mae: 0.1945 - val_loss: 2.9978 - val_mae: 0.6468\n",
            "Epoch 31/5000\n",
            "15/15 [==============================] - 0s 14ms/step - loss: 0.1238 - mae: 0.1766 - val_loss: 1.7511 - val_mae: 0.5772\n",
            "Epoch 32/5000\n",
            "15/15 [==============================] - 0s 11ms/step - loss: 0.0628 - mae: 0.1793 - val_loss: 1.1588 - val_mae: 0.4947\n",
            "Epoch 33/5000\n",
            "15/15 [==============================] - 0s 14ms/step - loss: 0.1228 - mae: 0.1703 - val_loss: 2.8234 - val_mae: 0.6893\n",
            "Epoch 34/5000\n",
            "15/15 [==============================] - 0s 17ms/step - loss: 0.0948 - mae: 0.1849 - val_loss: 4.0091 - val_mae: 0.7814\n",
            "Epoch 35/5000\n",
            "15/15 [==============================] - 0s 13ms/step - loss: 0.1115 - mae: 0.2022 - val_loss: 1.7738 - val_mae: 0.6269\n",
            "Epoch 36/5000\n",
            "15/15 [==============================] - 0s 15ms/step - loss: 0.0818 - mae: 0.1672 - val_loss: 2.9170 - val_mae: 0.7039\n",
            "Epoch 37/5000\n",
            "15/15 [==============================] - 0s 12ms/step - loss: 0.0732 - mae: 0.1636 - val_loss: 3.9992 - val_mae: 0.7896\n",
            "Epoch 38/5000\n",
            "15/15 [==============================] - 0s 24ms/step - loss: 0.2310 - mae: 0.2152 - val_loss: 4.7153 - val_mae: 0.8082\n",
            "Epoch 39/5000\n",
            "15/15 [==============================] - 0s 18ms/step - loss: 0.0360 - mae: 0.1324 - val_loss: 1.9065 - val_mae: 0.6094\n",
            "Epoch 40/5000\n",
            "15/15 [==============================] - 0s 17ms/step - loss: 0.2475 - mae: 0.2114 - val_loss: 3.2447 - val_mae: 0.7039\n",
            "Epoch 41/5000\n",
            "15/15 [==============================] - 0s 18ms/step - loss: 0.1791 - mae: 0.2191 - val_loss: 2.8010 - val_mae: 0.6830\n",
            "Epoch 42/5000\n",
            "15/15 [==============================] - 0s 19ms/step - loss: 0.1825 - mae: 0.2069 - val_loss: 1.5600 - val_mae: 0.5829\n",
            "Epoch 43/5000\n",
            "15/15 [==============================] - 0s 20ms/step - loss: 0.1909 - mae: 0.1917 - val_loss: 2.5262 - val_mae: 0.6578\n"
          ]
        }
      ]
    },
    {
      "cell_type": "code",
      "source": [
        "# let's see the training and validation accuracy by epoch\n",
        "history_dict = history.history\n",
        "loss_values = history_dict['loss'] # you can change this\n",
        "val_loss_values = history_dict['val_loss'] # you can also change this\n",
        "epochs = range(1, len(loss_values) + 1) # range of X (no. of epochs)\n",
        "plt.plot(epochs, loss_values, 'blue', label='Training loss')\n",
        "plt.plot(epochs, val_loss_values, 'orange', label='Validation loss')\n",
        "plt.title('Training and validation loss')\n",
        "plt.xlabel('Epochs')\n",
        "plt.ylabel('Loss')\n",
        "plt.legend()\n",
        "plt.show()"
      ],
      "metadata": {
        "colab": {
          "base_uri": "https://localhost:8080/",
          "height": 295
        },
        "id": "ri9kHF1E9IaE",
        "outputId": "02ba6fa3-d656-4188-dab3-1ac74793398c"
      },
      "execution_count": null,
      "outputs": [
        {
          "output_type": "display_data",
          "data": {
            "text/plain": [
              "<Figure size 432x288 with 1 Axes>"
            ],
            "image/png": "[encoded data removed]"
          },
          "metadata": {
            "needs_background": "light"
          }
        }
      ]
    },
    {
      "cell_type": "code",
      "source": [
        "# scatterplot of actual vs. pred\n",
        "# specify the dimensions \n",
        "fig, axes = plt.subplots(1,2) # 1 row, 2 columns\n",
        "\n",
        "# this makes the individual subplots\n",
        "# Training Results\n",
        "axes[0].scatter(x=y_train, y=model.predict(X_train)) #first row, first entry (left top)\n",
        "axes[0].set_xlabel(\"Actual\", fontsize=10)\n",
        "axes[0].set_ylabel(\"Predicted\",  fontsize=10)\n",
        "axes[0].set_title(\"Training\")\n",
        "# add 45 deg line\n",
        "x = np.linspace(*axes[0].get_xlim())\n",
        "axes[0].plot(x, x, color='red')\n",
        "# Validation Results\n",
        "axes[1].scatter(x=y_test, y=model.predict(X_test)) # first row, second entry (right top)\n",
        "axes[1].set_xlabel(\"Actual\", fontsize=10)\n",
        "axes[1].set_ylabel(\"Predicted\",  fontsize=10)\n",
        "axes[1].set_title(\"Validation\")\n",
        "# add 45 deg line\n",
        "x = np.linspace(*axes[1].get_xlim())\n",
        "axes[1].plot(x, x, color='red')\n",
        "\n",
        "# tight layout\n",
        "fig.tight_layout()\n",
        "\n",
        "# show the plot\n",
        "plt.show()"
      ],
      "metadata": {
        "colab": {
          "base_uri": "https://localhost:8080/",
          "height": 332
        },
        "id": "7_2jDtA29TPx",
        "outputId": "8cd1fbf6-1bcd-4da9-99f5-5a841c79d6cd"
      },
      "execution_count": null,
      "outputs": [
        {
          "output_type": "stream",
          "name": "stdout",
          "text": [
            "2/2 [==============================] - 0s 7ms/step\n",
            "1/1 [==============================] - 0s 18ms/step\n"
          ]
        },
        {
          "output_type": "display_data",
          "data": {
            "text/plain": [
              "<Figure size 432x288 with 2 Axes>"
            ],
            "image/png": "[encoded data removed]"
          },
          "metadata": {
            "needs_background": "light"
          }
        }
      ]
    },
    {
      "cell_type": "code",
      "source": [
        "# metrics\n",
        "pred = model.predict(X_test)\n",
        "pred\n",
        "\n",
        "trainpreds = model.predict(X_train)\n",
        "\n",
        "from sklearn.metrics import mean_absolute_error\n",
        "print(mean_absolute_error(y_train, trainpreds)) # train\n",
        "print(mean_absolute_error(y_test, pred)) # test"
      ],
      "metadata": {
        "colab": {
          "base_uri": "https://localhost:8080/"
        },
        "id": "T-i0m6tP9dTb",
        "outputId": "219f4471-9d95-422b-d3ee-7eaf79dae01c"
      },
      "execution_count": null,
      "outputs": [
        {
          "output_type": "stream",
          "name": "stdout",
          "text": [
            "1/1 [==============================] - 0s 18ms/step\n",
            "2/2 [==============================] - 0s 8ms/step\n",
            "0.15650890764944914\n",
            "0.11948928096362979\n"
          ]
        }
      ]
    },
    {
      "cell_type": "code",
      "source": [
        "from sklearn.decomposition import PCA\n",
        "import seaborn as sns\n",
        "import numpy as np\n",
        "import pandas as pd\n",
        "\n",
        "df = pd.read_csv('/content/main_tfm_ML (1).csv')\n",
        "df.info()\n",
        "\n",
        "# drop any rows with missing values\n",
        "df.dropna(axis=0, inplace=True)\n",
        "df.info()\n",
        "\n",
        "\n",
        "corrmat = df.corr()\n",
        "hm = sns.heatmap(corrmat, \n",
        "                 cbar=True, \n",
        "                 annot=True, \n",
        "                 square=True, \n",
        "                 fmt='.2f', \n",
        "                 annot_kws={'size': 10}, \n",
        "                 yticklabels=df.columns, \n",
        "                 xticklabels=df.columns, \n",
        "                 cmap=\"Spectral_r\")\n",
        "plt.show()"
      ],
      "metadata": {
        "colab": {
          "base_uri": "https://localhost:8080/",
          "height": 884
        },
        "id": "cMbyp61YNZdQ",
        "outputId": "6dd58c78-0a40-40e7-cbc1-0673dce4207a"
      },
      "execution_count": null,
      "outputs": [
        {
          "output_type": "stream",
          "name": "stdout",
          "text": [
            "<class 'pandas.core.frame.DataFrame'>\n",
            "RangeIndex: 73 entries, 0 to 72\n",
            "Data columns (total 7 columns):\n",
            " #   Column                       Non-Null Count  Dtype  \n",
            "---  ------                       --------------  -----  \n",
            " 0   RMS traction(Pa)             73 non-null     float64\n",
            " 1   Net Contractile Moment (PJ)  73 non-null     float64\n",
            " 2   Total Strain Energy(PJ)      73 non-null     float64\n",
            " 3   Max Force(nN)                73 non-null     float64\n",
            " 4   Area (um2)                   73 non-null     float64\n",
            " 5   Prestress(Pa)                73 non-null     float64\n",
            " 6   Gel (kPa)                    73 non-null     float64\n",
            "dtypes: float64(7)\n",
            "memory usage: 4.1 KB\n",
            "<class 'pandas.core.frame.DataFrame'>\n",
            "Int64Index: 73 entries, 0 to 72\n",
            "Data columns (total 7 columns):\n",
            " #   Column                       Non-Null Count  Dtype  \n",
            "---  ------                       --------------  -----  \n",
            " 0   RMS traction(Pa)             73 non-null     float64\n",
            " 1   Net Contractile Moment (PJ)  73 non-null     float64\n",
            " 2   Total Strain Energy(PJ)      73 non-null     float64\n",
            " 3   Max Force(nN)                73 non-null     float64\n",
            " 4   Area (um2)                   73 non-null     float64\n",
            " 5   Prestress(Pa)                73 non-null     float64\n",
            " 6   Gel (kPa)                    73 non-null     float64\n",
            "dtypes: float64(7)\n",
            "memory usage: 4.6 KB\n"
          ]
        },
        {
          "output_type": "display_data",
          "data": {
            "text/plain": [
              "<Figure size 432x288 with 2 Axes>"
            ],
            "image/png": "[encoded data removed]"
          },
          "metadata": {
            "needs_background": "light"
          }
        }
      ]
    },
    {
      "cell_type": "markdown",
      "source": [
        "Random Forest Regressor"
      ],
      "metadata": {
        "id": "rQDdAIteG43u"
      }
    },
    {
      "cell_type": "code",
      "source": [
        "import pandas as pd\n",
        "import matplotlib.pyplot as plt\n",
        "import numpy as np\n",
        "\n",
        "# Data preprocessing\n",
        "from sklearn.preprocessing import StandardScaler\n",
        "from sklearn.model_selection import train_test_split\n",
        "\n",
        "df = pd.read_csv('/content/main_tfm_ML.csv')\n",
        "#df.info()\n",
        "\n",
        "# drop any rows with missing values\n",
        "df.dropna(axis=0, inplace=True)\n",
        "#df.info()\n",
        "\n",
        "# convert categorical variable into dummy variables\n",
        "#df = pd.get_dummies(df, columns=['ocean_proximity'])\n",
        "#df.info()\n",
        "\n",
        "from keras.backend import reshape\n",
        "# our target variable is 'Prestress'\n",
        "y = df['RMS Traction(Pa)']\n",
        "X = df.drop('RMS Traction(Pa)', axis=1)\n",
        "#print(X.shape, y.shape)\n",
        "\n",
        "\n",
        "# convert to numpy array\n",
        "X = np.array(X)\n",
        "y = np.array(y)\n",
        "\n",
        "#Standarzing the variable\n",
        "#y = y.reshape(-1,1)\n",
        "\n",
        "StdS_X = StandardScaler()\n",
        "#StdS_y = StandardScaler()\n",
        "X = StdS_X.fit_transform(X)\n",
        "#y = StdS_y.fit_transform(y)\n",
        "\n",
        "\n",
        "\n",
        "# split into X_train and X_test\n",
        "# always split into X_train, X_test first THEN apply minmax scaler\n",
        "X_train, X_test, y_train, y_test = train_test_split(X, y,\n",
        "                                                    test_size=0.2,\n",
        "                                                    random_state=42)\n",
        "\n",
        "\n",
        "\n",
        "#print(X_train.shape, X_test.shape, y_train.shape, y_test.shape)\n",
        "\n",
        "# use minMax scaler\n",
        "#min_max_scaler = MinMaxScaler()\n",
        "#X_train = min_max_scaler.fit_transform(X_train)\n",
        "#X_test = min_max_scaler.transform(X_test)\n",
        "\n",
        "# Import the model we are using\n",
        "from sklearn.ensemble import RandomForestRegressor\n",
        "# Instantiate model with 1000 decision trees\n",
        "rf = RandomForestRegressor(n_estimators = 1000, random_state = 42)\n",
        "# Train the model on training data\n",
        "rf.fit(X_train, y_train);\n",
        "\n",
        "\n",
        "\n",
        "# Use the forest's predict method on the test data\n",
        "predictions = rf.predict(X_test)\n",
        "# Calculate the absolute errors\n",
        "errors = abs(predictions - y_test)\n",
        "# Print out the mean absolute error (mae)\n",
        "print('Mean Absolute Error:', np.mean(errors))\n",
        "\n",
        "# Calculate mean absolute percentage error (MAPE)\n",
        "mape = 100 * (errors / y_test)\n",
        "# Calculate and display accuracy\n",
        "accuracy = 100 - np.mean(mape)\n",
        "print('Accuracy:', round(accuracy, 4), '%.')\n",
        "\n",
        "\n",
        "# Import tools needed for visualization\n",
        "from sklearn.tree import export_graphviz\n",
        "import pydot\n",
        "# Pull out one tree from the forest\n",
        "tree = rf.estimators_[5]\n",
        "feature_list = ['Gel(kPa)', 'Net Contractile Moment (PJ)', 'Total Strain Energy(PJ)', 'Max Force(nN)', 'Area(um2)', 'Prestress(Pa)']\n",
        "# Import tools needed for visualization\n",
        "from sklearn.tree import export_graphviz\n",
        "import pydot\n",
        "# Pull out one tree from the forest\n",
        "tree = rf.estimators_[5]\n",
        "# Export the image to a dot file\n",
        "export_graphviz(tree, out_file = 'tree.dot', feature_names = feature_list, rounded = True, precision = 1)\n",
        "# Use dot file to create a graph\n",
        "(graph, ) = pydot.graph_from_dot_file('tree.dot')\n",
        "# Write graph to a png file\n",
        "graph.write_png('tree.png')\n",
        "\n",
        "\n",
        "\n",
        "# Limit depth of tree to 3 levels\n",
        "rf_small = RandomForestRegressor(n_estimators=10, max_depth = 3)\n",
        "rf_small.fit(X_train, y_train)\n",
        "# Extract the small tree\n",
        "tree_small = rf_small.estimators_[5]\n",
        "# Save the tree as a png image\n",
        "export_graphviz(tree_small, out_file = 'small_tree.dot', feature_names = feature_list, rounded = True, precision = 1)\n",
        "(graph, ) = pydot.graph_from_dot_file('small_tree.dot')\n",
        "graph.write_png('small_tree.png');"
      ],
      "metadata": {
        "colab": {
          "base_uri": "https://localhost:8080/"
        },
        "id": "y9rBVomO0F2E",
        "outputId": "9ae62926-a36b-4462-cb6f-4fecff1805f8"
      },
      "execution_count": null,
      "outputs": [
        {
          "output_type": "stream",
          "name": "stdout",
          "text": [
            "Mean Absolute Error: 45.52737417399964\n",
            "Accuracy: 71.74 %.\n"
          ]
        }
      ]
    },
    {
      "cell_type": "markdown",
      "source": [
        "SVR"
      ],
      "metadata": {
        "id": "jl2EI9EyIqSi"
      }
    },
    {
      "cell_type": "code",
      "source": [
        "import pandas as pd\n",
        "import matplotlib.pyplot as plt\n",
        "import numpy as np\n",
        "\n",
        "# Data preprocessing\n",
        "from sklearn.preprocessing import StandardScaler\n",
        "from sklearn.model_selection import train_test_split\n",
        "\n",
        "df = pd.read_csv('/content/main_tfm_ML.csv')\n",
        "#df.info()\n",
        "\n",
        "# drop any rows with missing values\n",
        "df.dropna(axis=0, inplace=True)\n",
        "#df.info()\n",
        "\n",
        "# convert categorical variable into dummy variables\n",
        "#df = pd.get_dummies(df, columns=['ocean_proximity'])\n",
        "#df.info()\n",
        "\n",
        "from keras.backend import reshape\n",
        "y = df['Prestress(Pa)']\n",
        "X = df.drop('Prestress(Pa)', axis=1)\n",
        "#print(X.shape, y.shape)\n",
        "\n",
        "\n",
        "# convert to numpy array\n",
        "X = np.array(X)\n",
        "y = np.array(y)\n",
        "\n",
        "#Standarzing the variables\n",
        "#y = y.reshape(-1,1)\n",
        "\n",
        "StdS_X = StandardScaler()\n",
        "StdS_y = StandardScaler()\n",
        "X = StdS_X.fit_transform(X)\n",
        "#y = StdS_y.fit_transform(y)\n",
        "\n",
        "\n",
        "\n",
        "# split into X_train and X_test\n",
        "X_train, X_test, y_train, y_test = train_test_split(X, y,\n",
        "                                                    test_size=0.2,\n",
        "                                                    random_state=42)\n",
        "\n",
        "\n",
        "\n",
        "#print(X_train.shape, X_test.shape, y_train.shape, y_test.shape)\n",
        "\n",
        "from sklearn.svm import SVR\n",
        "regrassor = SVR(kernel = 'rbf')\n",
        "regrassor.fit(X_train, y_train)\n",
        "\n",
        "\n",
        "y_pred = regrassor.predict(X_test)\n",
        "\n",
        "from sklearn.metrics import mean_squared_error\n",
        "rmse = float(format(np.sqrt(mean_squared_error(y_test, y_pred)), '.3f'))\n",
        "print(\"\\nRMSE: \", rmse)\n",
        "\n",
        "y_test = y_test.flatten()\n",
        "df = pd.DataFrame({'Predicted value': y_pred, 'Real Value': y_test})\n",
        "df\n"
      ],
      "metadata": {
        "id": "UPddnmW4G_AN"
      },
      "execution_count": null,
      "outputs": []
    },
    {
      "cell_type": "markdown",
      "source": [
        "KNN"
      ],
      "metadata": {
        "id": "Ahh1VmpUW6-5"
      }
    },
    {
      "cell_type": "code",
      "source": [
        "import pandas as pd\n",
        "import matplotlib.pyplot as plt\n",
        "import numpy as np\n",
        "\n",
        "# Data preprocessing\n",
        "from sklearn.preprocessing import StandardScaler\n",
        "from sklearn.model_selection import train_test_split\n",
        "\n",
        "df = pd.read_csv('/content/main_tfm_ML.csv')\n",
        "#df.info()\n",
        "\n",
        "# drop any rows with missing values\n",
        "df.dropna(axis=0, inplace=True)\n",
        "#df.info()\n",
        "\n",
        "# convert categorical variable into dummy variables\n",
        "#df = pd.get_dummies(df, columns=['ocean_proximity'])\n",
        "#df.info()\n",
        "\n",
        "from keras.backend import reshape\n",
        "y = df['RMS Traction(Pa)']\n",
        "X = df.drop('RMS Traction(Pa)', axis=1)\n",
        "#print(X.shape, y.shape)\n",
        "\n",
        "\n",
        "# convert to numpy array\n",
        "X = np.array(X)\n",
        "y = np.array(y)\n",
        "\n",
        "#Standarzing the variables\n",
        "#y = y.reshape(-1,1)\n",
        "\n",
        "StdS_X = StandardScaler()\n",
        "StdS_y = StandardScaler()\n",
        "X = StdS_X.fit_transform(X)\n",
        "#y = StdS_y.fit_transform(y)\n",
        "\n",
        "\n",
        "\n",
        "# split into X_train and X_test\n",
        "X_train, X_test, y_train, y_test = train_test_split(X, y,\n",
        "                                                    test_size=0.2,\n",
        "                                                    random_state=42)\n",
        "\n",
        "\n",
        "\n",
        "#print(X_train.shape, X_test.shape, y_train.shape, y_test.shape)\n",
        "from sklearn.neighbors import KNeighborsRegressor\n",
        "knn_model = KNeighborsRegressor(n_neighbors=2)\n",
        "knn_model.fit(X_train, y_train)\n",
        "\n",
        "from sklearn.metrics import mean_squared_error\n",
        "from math import sqrt\n",
        "train_preds = knn_model.predict(X_train)\n",
        "mse_train = mean_squared_error(y_train, train_preds)\n",
        "rmse_train= sqrt(mse_train)\n",
        "print('train_mse:', rmse_train)\n",
        "\n",
        "\n",
        "test_preds = knn_model.predict(X_test)\n",
        "mse_test = mean_squared_error(y_test, test_preds)\n",
        "rmse_test = sqrt(mse_test)\n",
        "print('test_mse:',rmse_test)\n",
        "\n",
        "#plotting the fit on the model\n",
        "\n",
        "import seaborn as sns\n",
        "cmap = sns.cubehelix_palette(as_cmap=True)\n",
        "f, ax = plt.subplots()\n",
        "points = ax.scatter(X_test[:, 0], X_test[:, 1], c=test_preds, s=50, cmap=cmap)\n",
        "f.colorbar(points)\n",
        "plt.show()\n",
        "\n",
        "cmap = sns.cubehelix_palette(as_cmap=True)\n",
        "f, ax = plt.subplots()\n",
        "points = ax.scatter(X_test[:, 0], X_test[:, 1], c=y_test, s=50, cmap=cmap)\n",
        "f.colorbar(points)\n",
        "plt.show()"
      ],
      "metadata": {
        "colab": {
          "base_uri": "https://localhost:8080/",
          "height": 552
        },
        "id": "-iMMZAdKW7Jv",
        "outputId": "a533900b-f27b-4a6e-a9cc-10842acd6978"
      },
      "execution_count": null,
      "outputs": [
        {
          "output_type": "stream",
          "name": "stdout",
          "text": [
            "train_mse: 76.08881145530361\n",
            "test_mse: 205.32059876968108\n"
          ]
        },
        {
          "output_type": "display_data",
          "data": {
            "text/plain": [
              "<Figure size 432x288 with 2 Axes>"
            ],
            "image/png": "[encoded data removed]"
          },
          "metadata": {
            "needs_background": "light"
          }
        },
        {
          "output_type": "display_data",
          "data": {
            "text/plain": [
              "<Figure size 432x288 with 2 Axes>"
            ],
            "image/png": "[encoded data removed]"
          },
          "metadata": {
            "needs_background": "light"
          }
        }
      ]
    },
    {
      "cell_type": "code",
      "source": [
        "from sklearn.model_selection import GridSearchCV\n",
        "parameters = {\"n_neighbors\": range(1, 50)}\n",
        "gridsearch = GridSearchCV(KNeighborsRegressor(), parameters)\n",
        "gridsearch.fit(X_train, y_train)\n",
        "gridsearch.best_params_"
      ],
      "metadata": {
        "colab": {
          "base_uri": "https://localhost:8080/"
        },
        "id": "EpUpmAPDY2X1",
        "outputId": "46435e79-1dad-480b-f3e1-eeab6be9e0ac"
      },
      "execution_count": null,
      "outputs": [
        {
          "output_type": "stream",
          "name": "stderr",
          "text": [
            "/usr/local/lib/python3.8/dist-packages/sklearn/model_selection/_validation.py:770: UserWarning: Scoring failed. The score on this train-test partition for these parameters will be set to nan. Details: \n",
            "Traceback (most recent call last):\n",
            "  File \"/usr/local/lib/python3.8/dist-packages/sklearn/model_selection/_validation.py\", line 761, in _score\n",
            "    scores = scorer(estimator, X_test, y_test)\n",
            "  File \"/usr/local/lib/python3.8/dist-packages/sklearn/metrics/_scorer.py\", line 418, in _passthrough_scorer\n",
            "    return estimator.score(*args, **kwargs)\n",
            "  File \"/usr/local/lib/python3.8/dist-packages/sklearn/base.py\", line 705, in score\n",
            "    y_pred = self.predict(X)\n",
            "  File \"/usr/local/lib/python3.8/dist-packages/sklearn/neighbors/_regression.py\", line 229, in predict\n",
            "    neigh_dist, neigh_ind = self.kneighbors(X)\n",
            "  File \"/usr/local/lib/python3.8/dist-packages/sklearn/neighbors/_base.py\", line 727, in kneighbors\n",
            "    raise ValueError(\n",
            "ValueError: Expected n_neighbors <= n_samples,  but n_samples = 46, n_neighbors = 47\n",
            "\n",
            "  warnings.warn(\n",
            "/usr/local/lib/python3.8/dist-packages/sklearn/model_selection/_validation.py:770: UserWarning: Scoring failed. The score on this train-test partition for these parameters will be set to nan. Details: \n",
            "Traceback (most recent call last):\n",
            "  File \"/usr/local/lib/python3.8/dist-packages/sklearn/model_selection/_validation.py\", line 761, in _score\n",
            "    scores = scorer(estimator, X_test, y_test)\n",
            "  File \"/usr/local/lib/python3.8/dist-packages/sklearn/metrics/_scorer.py\", line 418, in _passthrough_scorer\n",
            "    return estimator.score(*args, **kwargs)\n",
            "  File \"/usr/local/lib/python3.8/dist-packages/sklearn/base.py\", line 705, in score\n",
            "    y_pred = self.predict(X)\n",
            "  File \"/usr/local/lib/python3.8/dist-packages/sklearn/neighbors/_regression.py\", line 229, in predict\n",
            "    neigh_dist, neigh_ind = self.kneighbors(X)\n",
            "  File \"/usr/local/lib/python3.8/dist-packages/sklearn/neighbors/_base.py\", line 727, in kneighbors\n",
            "    raise ValueError(\n",
            "ValueError: Expected n_neighbors <= n_samples,  but n_samples = 46, n_neighbors = 47\n",
            "\n",
            "  warnings.warn(\n",
            "/usr/local/lib/python3.8/dist-packages/sklearn/model_selection/_validation.py:770: UserWarning: Scoring failed. The score on this train-test partition for these parameters will be set to nan. Details: \n",
            "Traceback (most recent call last):\n",
            "  File \"/usr/local/lib/python3.8/dist-packages/sklearn/model_selection/_validation.py\", line 761, in _score\n",
            "    scores = scorer(estimator, X_test, y_test)\n",
            "  File \"/usr/local/lib/python3.8/dist-packages/sklearn/metrics/_scorer.py\", line 418, in _passthrough_scorer\n",
            "    return estimator.score(*args, **kwargs)\n",
            "  File \"/usr/local/lib/python3.8/dist-packages/sklearn/base.py\", line 705, in score\n",
            "    y_pred = self.predict(X)\n",
            "  File \"/usr/local/lib/python3.8/dist-packages/sklearn/neighbors/_regression.py\", line 229, in predict\n",
            "    neigh_dist, neigh_ind = self.kneighbors(X)\n",
            "  File \"/usr/local/lib/python3.8/dist-packages/sklearn/neighbors/_base.py\", line 727, in kneighbors\n",
            "    raise ValueError(\n",
            "ValueError: Expected n_neighbors <= n_samples,  but n_samples = 46, n_neighbors = 47\n",
            "\n",
            "  warnings.warn(\n",
            "/usr/local/lib/python3.8/dist-packages/sklearn/model_selection/_validation.py:770: UserWarning: Scoring failed. The score on this train-test partition for these parameters will be set to nan. Details: \n",
            "Traceback (most recent call last):\n",
            "  File \"/usr/local/lib/python3.8/dist-packages/sklearn/model_selection/_validation.py\", line 761, in _score\n",
            "    scores = scorer(estimator, X_test, y_test)\n",
            "  File \"/usr/local/lib/python3.8/dist-packages/sklearn/metrics/_scorer.py\", line 418, in _passthrough_scorer\n",
            "    return estimator.score(*args, **kwargs)\n",
            "  File \"/usr/local/lib/python3.8/dist-packages/sklearn/base.py\", line 705, in score\n",
            "    y_pred = self.predict(X)\n",
            "  File \"/usr/local/lib/python3.8/dist-packages/sklearn/neighbors/_regression.py\", line 229, in predict\n",
            "    neigh_dist, neigh_ind = self.kneighbors(X)\n",
            "  File \"/usr/local/lib/python3.8/dist-packages/sklearn/neighbors/_base.py\", line 727, in kneighbors\n",
            "    raise ValueError(\n",
            "ValueError: Expected n_neighbors <= n_samples,  but n_samples = 46, n_neighbors = 48\n",
            "\n",
            "  warnings.warn(\n",
            "/usr/local/lib/python3.8/dist-packages/sklearn/model_selection/_validation.py:770: UserWarning: Scoring failed. The score on this train-test partition for these parameters will be set to nan. Details: \n",
            "Traceback (most recent call last):\n",
            "  File \"/usr/local/lib/python3.8/dist-packages/sklearn/model_selection/_validation.py\", line 761, in _score\n",
            "    scores = scorer(estimator, X_test, y_test)\n",
            "  File \"/usr/local/lib/python3.8/dist-packages/sklearn/metrics/_scorer.py\", line 418, in _passthrough_scorer\n",
            "    return estimator.score(*args, **kwargs)\n",
            "  File \"/usr/local/lib/python3.8/dist-packages/sklearn/base.py\", line 705, in score\n",
            "    y_pred = self.predict(X)\n",
            "  File \"/usr/local/lib/python3.8/dist-packages/sklearn/neighbors/_regression.py\", line 229, in predict\n",
            "    neigh_dist, neigh_ind = self.kneighbors(X)\n",
            "  File \"/usr/local/lib/python3.8/dist-packages/sklearn/neighbors/_base.py\", line 727, in kneighbors\n",
            "    raise ValueError(\n",
            "ValueError: Expected n_neighbors <= n_samples,  but n_samples = 46, n_neighbors = 48\n",
            "\n",
            "  warnings.warn(\n",
            "/usr/local/lib/python3.8/dist-packages/sklearn/model_selection/_validation.py:770: UserWarning: Scoring failed. The score on this train-test partition for these parameters will be set to nan. Details: \n",
            "Traceback (most recent call last):\n",
            "  File \"/usr/local/lib/python3.8/dist-packages/sklearn/model_selection/_validation.py\", line 761, in _score\n",
            "    scores = scorer(estimator, X_test, y_test)\n",
            "  File \"/usr/local/lib/python3.8/dist-packages/sklearn/metrics/_scorer.py\", line 418, in _passthrough_scorer\n",
            "    return estimator.score(*args, **kwargs)\n",
            "  File \"/usr/local/lib/python3.8/dist-packages/sklearn/base.py\", line 705, in score\n",
            "    y_pred = self.predict(X)\n",
            "  File \"/usr/local/lib/python3.8/dist-packages/sklearn/neighbors/_regression.py\", line 229, in predict\n",
            "    neigh_dist, neigh_ind = self.kneighbors(X)\n",
            "  File \"/usr/local/lib/python3.8/dist-packages/sklearn/neighbors/_base.py\", line 727, in kneighbors\n",
            "    raise ValueError(\n",
            "ValueError: Expected n_neighbors <= n_samples,  but n_samples = 46, n_neighbors = 48\n",
            "\n",
            "  warnings.warn(\n",
            "/usr/local/lib/python3.8/dist-packages/sklearn/model_selection/_validation.py:770: UserWarning: Scoring failed. The score on this train-test partition for these parameters will be set to nan. Details: \n",
            "Traceback (most recent call last):\n",
            "  File \"/usr/local/lib/python3.8/dist-packages/sklearn/model_selection/_validation.py\", line 761, in _score\n",
            "    scores = scorer(estimator, X_test, y_test)\n",
            "  File \"/usr/local/lib/python3.8/dist-packages/sklearn/metrics/_scorer.py\", line 418, in _passthrough_scorer\n",
            "    return estimator.score(*args, **kwargs)\n",
            "  File \"/usr/local/lib/python3.8/dist-packages/sklearn/base.py\", line 705, in score\n",
            "    y_pred = self.predict(X)\n",
            "  File \"/usr/local/lib/python3.8/dist-packages/sklearn/neighbors/_regression.py\", line 229, in predict\n",
            "    neigh_dist, neigh_ind = self.kneighbors(X)\n",
            "  File \"/usr/local/lib/python3.8/dist-packages/sklearn/neighbors/_base.py\", line 727, in kneighbors\n",
            "    raise ValueError(\n",
            "ValueError: Expected n_neighbors <= n_samples,  but n_samples = 47, n_neighbors = 48\n",
            "\n",
            "  warnings.warn(\n",
            "/usr/local/lib/python3.8/dist-packages/sklearn/model_selection/_validation.py:770: UserWarning: Scoring failed. The score on this train-test partition for these parameters will be set to nan. Details: \n",
            "Traceback (most recent call last):\n",
            "  File \"/usr/local/lib/python3.8/dist-packages/sklearn/model_selection/_validation.py\", line 761, in _score\n",
            "    scores = scorer(estimator, X_test, y_test)\n",
            "  File \"/usr/local/lib/python3.8/dist-packages/sklearn/metrics/_scorer.py\", line 418, in _passthrough_scorer\n",
            "    return estimator.score(*args, **kwargs)\n",
            "  File \"/usr/local/lib/python3.8/dist-packages/sklearn/base.py\", line 705, in score\n",
            "    y_pred = self.predict(X)\n",
            "  File \"/usr/local/lib/python3.8/dist-packages/sklearn/neighbors/_regression.py\", line 229, in predict\n",
            "    neigh_dist, neigh_ind = self.kneighbors(X)\n",
            "  File \"/usr/local/lib/python3.8/dist-packages/sklearn/neighbors/_base.py\", line 727, in kneighbors\n",
            "    raise ValueError(\n",
            "ValueError: Expected n_neighbors <= n_samples,  but n_samples = 47, n_neighbors = 48\n",
            "\n",
            "  warnings.warn(\n",
            "/usr/local/lib/python3.8/dist-packages/sklearn/model_selection/_validation.py:770: UserWarning: Scoring failed. The score on this train-test partition for these parameters will be set to nan. Details: \n",
            "Traceback (most recent call last):\n",
            "  File \"/usr/local/lib/python3.8/dist-packages/sklearn/model_selection/_validation.py\", line 761, in _score\n",
            "    scores = scorer(estimator, X_test, y_test)\n",
            "  File \"/usr/local/lib/python3.8/dist-packages/sklearn/metrics/_scorer.py\", line 418, in _passthrough_scorer\n",
            "    return estimator.score(*args, **kwargs)\n",
            "  File \"/usr/local/lib/python3.8/dist-packages/sklearn/base.py\", line 705, in score\n",
            "    y_pred = self.predict(X)\n",
            "  File \"/usr/local/lib/python3.8/dist-packages/sklearn/neighbors/_regression.py\", line 229, in predict\n",
            "    neigh_dist, neigh_ind = self.kneighbors(X)\n",
            "  File \"/usr/local/lib/python3.8/dist-packages/sklearn/neighbors/_base.py\", line 727, in kneighbors\n",
            "    raise ValueError(\n",
            "ValueError: Expected n_neighbors <= n_samples,  but n_samples = 46, n_neighbors = 49\n",
            "\n",
            "  warnings.warn(\n",
            "/usr/local/lib/python3.8/dist-packages/sklearn/model_selection/_validation.py:770: UserWarning: Scoring failed. The score on this train-test partition for these parameters will be set to nan. Details: \n",
            "Traceback (most recent call last):\n",
            "  File \"/usr/local/lib/python3.8/dist-packages/sklearn/model_selection/_validation.py\", line 761, in _score\n",
            "    scores = scorer(estimator, X_test, y_test)\n",
            "  File \"/usr/local/lib/python3.8/dist-packages/sklearn/metrics/_scorer.py\", line 418, in _passthrough_scorer\n",
            "    return estimator.score(*args, **kwargs)\n",
            "  File \"/usr/local/lib/python3.8/dist-packages/sklearn/base.py\", line 705, in score\n",
            "    y_pred = self.predict(X)\n",
            "  File \"/usr/local/lib/python3.8/dist-packages/sklearn/neighbors/_regression.py\", line 229, in predict\n",
            "    neigh_dist, neigh_ind = self.kneighbors(X)\n",
            "  File \"/usr/local/lib/python3.8/dist-packages/sklearn/neighbors/_base.py\", line 727, in kneighbors\n",
            "    raise ValueError(\n",
            "ValueError: Expected n_neighbors <= n_samples,  but n_samples = 46, n_neighbors = 49\n",
            "\n",
            "  warnings.warn(\n",
            "/usr/local/lib/python3.8/dist-packages/sklearn/model_selection/_validation.py:770: UserWarning: Scoring failed. The score on this train-test partition for these parameters will be set to nan. Details: \n",
            "Traceback (most recent call last):\n",
            "  File \"/usr/local/lib/python3.8/dist-packages/sklearn/model_selection/_validation.py\", line 761, in _score\n",
            "    scores = scorer(estimator, X_test, y_test)\n",
            "  File \"/usr/local/lib/python3.8/dist-packages/sklearn/metrics/_scorer.py\", line 418, in _passthrough_scorer\n",
            "    return estimator.score(*args, **kwargs)\n",
            "  File \"/usr/local/lib/python3.8/dist-packages/sklearn/base.py\", line 705, in score\n",
            "    y_pred = self.predict(X)\n",
            "  File \"/usr/local/lib/python3.8/dist-packages/sklearn/neighbors/_regression.py\", line 229, in predict\n",
            "    neigh_dist, neigh_ind = self.kneighbors(X)\n",
            "  File \"/usr/local/lib/python3.8/dist-packages/sklearn/neighbors/_base.py\", line 727, in kneighbors\n",
            "    raise ValueError(\n",
            "ValueError: Expected n_neighbors <= n_samples,  but n_samples = 46, n_neighbors = 49\n",
            "\n",
            "  warnings.warn(\n",
            "/usr/local/lib/python3.8/dist-packages/sklearn/model_selection/_validation.py:770: UserWarning: Scoring failed. The score on this train-test partition for these parameters will be set to nan. Details: \n",
            "Traceback (most recent call last):\n",
            "  File \"/usr/local/lib/python3.8/dist-packages/sklearn/model_selection/_validation.py\", line 761, in _score\n",
            "    scores = scorer(estimator, X_test, y_test)\n",
            "  File \"/usr/local/lib/python3.8/dist-packages/sklearn/metrics/_scorer.py\", line 418, in _passthrough_scorer\n",
            "    return estimator.score(*args, **kwargs)\n",
            "  File \"/usr/local/lib/python3.8/dist-packages/sklearn/base.py\", line 705, in score\n",
            "    y_pred = self.predict(X)\n",
            "  File \"/usr/local/lib/python3.8/dist-packages/sklearn/neighbors/_regression.py\", line 229, in predict\n",
            "    neigh_dist, neigh_ind = self.kneighbors(X)\n",
            "  File \"/usr/local/lib/python3.8/dist-packages/sklearn/neighbors/_base.py\", line 727, in kneighbors\n",
            "    raise ValueError(\n",
            "ValueError: Expected n_neighbors <= n_samples,  but n_samples = 47, n_neighbors = 49\n",
            "\n",
            "  warnings.warn(\n",
            "/usr/local/lib/python3.8/dist-packages/sklearn/model_selection/_validation.py:770: UserWarning: Scoring failed. The score on this train-test partition for these parameters will be set to nan. Details: \n",
            "Traceback (most recent call last):\n",
            "  File \"/usr/local/lib/python3.8/dist-packages/sklearn/model_selection/_validation.py\", line 761, in _score\n",
            "    scores = scorer(estimator, X_test, y_test)\n",
            "  File \"/usr/local/lib/python3.8/dist-packages/sklearn/metrics/_scorer.py\", line 418, in _passthrough_scorer\n",
            "    return estimator.score(*args, **kwargs)\n",
            "  File \"/usr/local/lib/python3.8/dist-packages/sklearn/base.py\", line 705, in score\n",
            "    y_pred = self.predict(X)\n",
            "  File \"/usr/local/lib/python3.8/dist-packages/sklearn/neighbors/_regression.py\", line 229, in predict\n",
            "    neigh_dist, neigh_ind = self.kneighbors(X)\n",
            "  File \"/usr/local/lib/python3.8/dist-packages/sklearn/neighbors/_base.py\", line 727, in kneighbors\n",
            "    raise ValueError(\n",
            "ValueError: Expected n_neighbors <= n_samples,  but n_samples = 47, n_neighbors = 49\n",
            "\n",
            "  warnings.warn(\n",
            "/usr/local/lib/python3.8/dist-packages/sklearn/model_selection/_search.py:969: UserWarning: One or more of the test scores are non-finite: [ 0.6233216   0.60416724  0.67909696  0.66631659  0.66036291  0.59455359\n",
            "  0.54288004  0.53901284  0.5312223   0.4931551   0.47968083  0.47344624\n",
            "  0.47493794  0.46636224  0.4569998   0.44070059  0.42245125  0.41825117\n",
            "  0.41417526  0.39518305  0.37390022  0.35360413  0.33350226  0.31445837\n",
            "  0.29616487  0.27987591  0.26351529  0.24618767  0.22818458  0.20792102\n",
            "  0.19006069  0.17310553  0.15662392  0.13622309  0.1288583   0.11001779\n",
            "  0.09379569  0.0693324   0.04734876  0.03003697  0.02155197  0.01272015\n",
            "  0.00484782 -0.01676998 -0.03277273 -0.08250618         nan         nan\n",
            "         nan]\n",
            "  warnings.warn(\n"
          ]
        },
        {
          "output_type": "execute_result",
          "data": {
            "text/plain": [
              "{'n_neighbors': 3}"
            ]
          },
          "metadata": {},
          "execution_count": 149
        }
      ]
    },
    {
      "cell_type": "code",
      "source": [
        "train_preds_grid = gridsearch.predict(X_train)\n",
        "train_mse = mean_squared_error(y_train, train_preds_grid)\n",
        "train_rmse = sqrt(train_mse)\n",
        "test_preds_grid = gridsearch.predict(X_test)\n",
        "test_mse = mean_squared_error(y_test, test_preds_grid)\n",
        "test_rmse = sqrt(test_mse)\n",
        "print(train_rmse)\n",
        "print(test_rmse)"
      ],
      "metadata": {
        "colab": {
          "base_uri": "https://localhost:8080/"
        },
        "id": "oFOt185RZtU4",
        "outputId": "d5f9ddc6-f09f-4c12-b8c2-320be3414320"
      },
      "execution_count": null,
      "outputs": [
        {
          "output_type": "stream",
          "name": "stdout",
          "text": [
            "193.15121012825924\n",
            "697.9134331124669\n"
          ]
        }
      ]
    },
    {
      "cell_type": "code",
      "source": [
        "parameters = {\"n_neighbors\": range(1, 50),    \"weights\": [\"uniform\", \"distance\"], }\n",
        "gridsearch = GridSearchCV(KNeighborsRegressor(), parameters)\n",
        "gridsearch.fit(X_train, y_train)\n",
        "GridSearchCV(estimator=KNeighborsRegressor(),\n",
        "             param_grid={'n_neighbors': range(1, 50),\n",
        "                         'weights': ['uniform', 'distance']})\n",
        "gridsearch.best_params_\n",
        "{'n_neighbors': 14, 'weights': 'distance'}\n",
        "test_preds_grid = gridsearch.predict(X_test)\n",
        "test_mse = mean_squared_error(y_test, test_preds_grid)\n",
        "test_rmse = sqrt(test_mse)\n",
        "test_rmse"
      ],
      "metadata": {
        "id": "Q2RvL-hbaFFa"
      },
      "execution_count": null,
      "outputs": []
    },
    {
      "cell_type": "code",
      "source": [
        "best_k = gridsearch.best_params_[\"n_neighbors\"]\n",
        "best_weights = gridsearch.best_params_[\"weights\"]\n",
        "bagged_knn = KNeighborsRegressor( n_neighbors=best_k, weights=best_weights)\n",
        "\n",
        "from sklearn.ensemble import BaggingRegressor\n",
        "bagging_model = BaggingRegressor(bagged_knn, n_estimators=100)\n",
        "\n",
        "test_preds_grid = bagging_model.predict(X_test)\n",
        "test_mse = mean_squared_error(y_test, test_preds_grid)\n",
        "test_rmse = sqrt(test_mse)\n",
        "test_rmse"
      ],
      "metadata": {
        "colab": {
          "base_uri": "https://localhost:8080/",
          "height": 381
        },
        "id": "JIQGLE2falGI",
        "outputId": "d8361076-3110-4935-a283-12be62620c10"
      },
      "execution_count": null,
      "outputs": [
        {
          "output_type": "error",
          "ename": "NotFittedError",
          "evalue": "ignored",
          "traceback": [
            "\u001b[0;31m---------------------------------------------------------------------------\u001b[0m",
            "\u001b[0;31mNotFittedError\u001b[0m                            Traceback (most recent call last)",
            "\u001b[0;32m<ipython-input-141-eebd88d3a0df>\u001b[0m in \u001b[0;36m<module>\u001b[0;34m\u001b[0m\n\u001b[1;32m      6\u001b[0m \u001b[0mbagging_model\u001b[0m \u001b[0;34m=\u001b[0m \u001b[0mBaggingRegressor\u001b[0m\u001b[0;34m(\u001b[0m\u001b[0mbagged_knn\u001b[0m\u001b[0;34m,\u001b[0m \u001b[0mn_estimators\u001b[0m\u001b[0;34m=\u001b[0m\u001b[0;36m100\u001b[0m\u001b[0;34m)\u001b[0m\u001b[0;34m\u001b[0m\u001b[0;34m\u001b[0m\u001b[0m\n\u001b[1;32m      7\u001b[0m \u001b[0;34m\u001b[0m\u001b[0m\n\u001b[0;32m----> 8\u001b[0;31m \u001b[0mtest_preds_grid\u001b[0m \u001b[0;34m=\u001b[0m \u001b[0mbagging_model\u001b[0m\u001b[0;34m.\u001b[0m\u001b[0mpredict\u001b[0m\u001b[0;34m(\u001b[0m\u001b[0mX_test\u001b[0m\u001b[0;34m)\u001b[0m\u001b[0;34m\u001b[0m\u001b[0;34m\u001b[0m\u001b[0m\n\u001b[0m\u001b[1;32m      9\u001b[0m \u001b[0mtest_mse\u001b[0m \u001b[0;34m=\u001b[0m \u001b[0mmean_squared_error\u001b[0m\u001b[0;34m(\u001b[0m\u001b[0my_test\u001b[0m\u001b[0;34m,\u001b[0m \u001b[0mtest_preds_grid\u001b[0m\u001b[0;34m)\u001b[0m\u001b[0;34m\u001b[0m\u001b[0;34m\u001b[0m\u001b[0m\n\u001b[1;32m     10\u001b[0m \u001b[0mtest_rmse\u001b[0m \u001b[0;34m=\u001b[0m \u001b[0msqrt\u001b[0m\u001b[0;34m(\u001b[0m\u001b[0mtest_mse\u001b[0m\u001b[0;34m)\u001b[0m\u001b[0;34m\u001b[0m\u001b[0;34m\u001b[0m\u001b[0m\n",
            "\u001b[0;32m/usr/local/lib/python3.8/dist-packages/sklearn/ensemble/_bagging.py\u001b[0m in \u001b[0;36mpredict\u001b[0;34m(self, X)\u001b[0m\n\u001b[1;32m   1112\u001b[0m             \u001b[0mThe\u001b[0m \u001b[0mpredicted\u001b[0m \u001b[0mvalues\u001b[0m\u001b[0;34m.\u001b[0m\u001b[0;34m\u001b[0m\u001b[0;34m\u001b[0m\u001b[0m\n\u001b[1;32m   1113\u001b[0m         \"\"\"\n\u001b[0;32m-> 1114\u001b[0;31m         \u001b[0mcheck_is_fitted\u001b[0m\u001b[0;34m(\u001b[0m\u001b[0mself\u001b[0m\u001b[0;34m)\u001b[0m\u001b[0;34m\u001b[0m\u001b[0;34m\u001b[0m\u001b[0m\n\u001b[0m\u001b[1;32m   1115\u001b[0m         \u001b[0;31m# Check data\u001b[0m\u001b[0;34m\u001b[0m\u001b[0;34m\u001b[0m\u001b[0;34m\u001b[0m\u001b[0m\n\u001b[1;32m   1116\u001b[0m         X = self._validate_data(\n",
            "\u001b[0;32m/usr/local/lib/python3.8/dist-packages/sklearn/utils/validation.py\u001b[0m in \u001b[0;36mcheck_is_fitted\u001b[0;34m(estimator, attributes, msg, all_or_any)\u001b[0m\n\u001b[1;32m   1220\u001b[0m \u001b[0;34m\u001b[0m\u001b[0m\n\u001b[1;32m   1221\u001b[0m     \u001b[0;32mif\u001b[0m \u001b[0;32mnot\u001b[0m \u001b[0mfitted\u001b[0m\u001b[0;34m:\u001b[0m\u001b[0;34m\u001b[0m\u001b[0;34m\u001b[0m\u001b[0m\n\u001b[0;32m-> 1222\u001b[0;31m         \u001b[0;32mraise\u001b[0m \u001b[0mNotFittedError\u001b[0m\u001b[0;34m(\u001b[0m\u001b[0mmsg\u001b[0m \u001b[0;34m%\u001b[0m \u001b[0;34m{\u001b[0m\u001b[0;34m\"name\"\u001b[0m\u001b[0;34m:\u001b[0m \u001b[0mtype\u001b[0m\u001b[0;34m(\u001b[0m\u001b[0mestimator\u001b[0m\u001b[0;34m)\u001b[0m\u001b[0;34m.\u001b[0m\u001b[0m__name__\u001b[0m\u001b[0;34m}\u001b[0m\u001b[0;34m)\u001b[0m\u001b[0;34m\u001b[0m\u001b[0;34m\u001b[0m\u001b[0m\n\u001b[0m\u001b[1;32m   1223\u001b[0m \u001b[0;34m\u001b[0m\u001b[0m\n\u001b[1;32m   1224\u001b[0m \u001b[0;34m\u001b[0m\u001b[0m\n",
            "\u001b[0;31mNotFittedError\u001b[0m: This BaggingRegressor instance is not fitted yet. Call 'fit' with appropriate arguments before using this estimator."
          ]
        }
      ]
    },
    {
      "cell_type": "code",
      "source": [
        "from sklearn import neighbors\n",
        "from sklearn.metrics import mean_squared_error \n",
        "from math import sqrt\n",
        "import matplotlib.pyplot as plt\n",
        "%matplotlib inline\n",
        "\n",
        "rmse_val = [] #to store rmse values for different k\n",
        "for K in range(20):\n",
        "    K = K+1\n",
        "    model = neighbors.KNeighborsRegressor(n_neighbors = K)\n",
        "\n",
        "    model.fit(X_train, y_train)  #fit the model\n",
        "    pred=model.predict(X_test) #make prediction on test set\n",
        "    error = sqrt(mean_squared_error(y_test,pred)) #calculate rmse\n",
        "    rmse_val.append(error) #store rmse values\n",
        "    print('RMSE value for k= ' , K , 'is:', error)"
      ],
      "metadata": {
        "colab": {
          "base_uri": "https://localhost:8080/"
        },
        "id": "Vpa5mLhmbFvL",
        "outputId": "117a617c-204a-433b-f610-d948ba4c1b60"
      },
      "execution_count": null,
      "outputs": [
        {
          "output_type": "stream",
          "name": "stdout",
          "text": [
            "RMSE value for k=  1 is: 314.1649869746086\n",
            "RMSE value for k=  2 is: 205.32059876968108\n",
            "RMSE value for k=  3 is: 189.26308650290304\n",
            "RMSE value for k=  4 is: 191.67848132682082\n",
            "RMSE value for k=  5 is: 207.54408761846616\n",
            "RMSE value for k=  6 is: 217.17959594274146\n",
            "RMSE value for k=  7 is: 234.67864740203322\n",
            "RMSE value for k=  8 is: 243.0558565878315\n",
            "RMSE value for k=  9 is: 253.5401853327366\n",
            "RMSE value for k=  10 is: 258.34161993917394\n",
            "RMSE value for k=  11 is: 266.1711828634673\n",
            "RMSE value for k=  12 is: 279.02855108706814\n",
            "RMSE value for k=  13 is: 278.1923534758014\n",
            "RMSE value for k=  14 is: 285.0263974621433\n",
            "RMSE value for k=  15 is: 293.563605083889\n",
            "RMSE value for k=  16 is: 296.20415658848646\n",
            "RMSE value for k=  17 is: 301.2369365520184\n",
            "RMSE value for k=  18 is: 304.8527339493279\n",
            "RMSE value for k=  19 is: 309.0909266243003\n",
            "RMSE value for k=  20 is: 312.9583780061654\n"
          ]
        }
      ]
    },
    {
      "cell_type": "markdown",
      "source": [
        "CNN: VGG16"
      ],
      "metadata": {
        "id": "czVQd9yfxg9Q"
      }
    },
    {
      "cell_type": "code",
      "source": [
        "from keras.models import Sequential\n",
        "from keras.layers import Dense, Conv1D, MaxPool1D , Flatten\n",
        "from tensorflow.keras.optimizers import Adam\n",
        "from keras.callbacks import EarlyStopping, ModelCheckpoint\n",
        "from sklearn.model_selection import train_test_split\n",
        "from sklearn import preprocessing\n",
        "from sklearn.decomposition import PCA\n",
        "\n",
        "import numpy as np\n",
        "import pandas as pd\n",
        "\n",
        "\n",
        "import tensorflow as tf\n",
        "\n",
        "\n",
        "\n",
        "# Data preprocessing\n",
        "from sklearn.preprocessing import StandardScaler\n",
        "from sklearn.model_selection import train_test_split\n",
        "\n",
        "df = pd.read_csv('/content/main_tfm_ML.csv')\n",
        "#df.info()\n",
        "\n",
        "# drop any rows with missing values\n",
        "df.dropna(axis=0, inplace=True)\n",
        "#df.info()\n",
        "\n",
        "# convert categorical variable into dummy variables\n",
        "#df = pd.get_dummies(df, columns=['ocean_proximity'])\n",
        "#df.info()\n",
        "\n",
        "from keras.backend import reshape\n",
        "y = df['Prestress(Pa)']\n",
        "X = df.drop('Prestress(Pa)', axis=1)\n",
        "#print(X.shape, y.shape)\n",
        "\n",
        "\n",
        "# convert to numpy array\n",
        "X = np.array(X)\n",
        "y = np.array(y)\n",
        "\n",
        "#Standarzing the variables\n",
        "y = y.reshape(-1,1)\n",
        "\n",
        "StdS_X = StandardScaler()\n",
        "StdS_y = StandardScaler()\n",
        "X = StdS_X.fit_transform(X)\n",
        "y = StdS_y.fit_transform(y)\n",
        "\n",
        "\n",
        "\n",
        "# split into X_train and X_test\n",
        "X_train, X_test, y_train, y_test = train_test_split(X, y,\n",
        "                                                    test_size=0.2,\n",
        "                                                    random_state=42)\n",
        "\n",
        "\n",
        "\n",
        "model = Sequential()\n",
        "model.add(Conv1D(input_shape=(6,1),filters=64,kernel_size=3,padding=\"same\", activation=\"relu\"))\n",
        "model.add(Conv1D(filters=64,kernel_size=3,padding=\"same\", activation=\"relu\"))\n",
        "model.add(MaxPool1D(pool_size=1,strides=2))\n",
        "model.add(Conv1D(filters=128, kernel_size=3, padding=\"same\", activation=\"relu\"))\n",
        "model.add(Conv1D(filters=128, kernel_size=3, padding=\"same\", activation=\"relu\"))\n",
        "model.add(MaxPool1D(pool_size=1,strides=2))\n",
        "model.add(Conv1D(filters=256, kernel_size=3, padding=\"same\", activation=\"relu\"))\n",
        "model.add(Conv1D(filters=256, kernel_size=3, padding=\"same\", activation=\"relu\"))\n",
        "model.add(Conv1D(filters=256, kernel_size=3, padding=\"same\", activation=\"relu\"))\n",
        "model.add(Conv1D(filters=256, kernel_size=3, padding=\"same\", activation=\"relu\"))\n",
        "model.add(MaxPool1D(pool_size=1,strides=2))\n",
        "model.add(Conv1D(filters=512, kernel_size=3, padding=\"same\", activation=\"relu\"))\n",
        "model.add(Conv1D(filters=512, kernel_size=3, padding=\"same\", activation=\"relu\"))\n",
        "model.add(Conv1D(filters=512, kernel_size=3, padding=\"same\", activation=\"relu\"))\n",
        "model.add(Conv1D(filters=512, kernel_size=3, padding=\"same\", activation=\"relu\"))\n",
        "model.add(MaxPool1D(pool_size=1,strides=2))\n",
        "model.add(Conv1D(filters=512, kernel_size=3, padding=\"same\", activation=\"relu\"))\n",
        "model.add(Conv1D(filters=512, kernel_size=3, padding=\"same\", activation=\"relu\"))\n",
        "model.add(Conv1D(filters=512, kernel_size=3, padding=\"same\", activation=\"relu\"))\n",
        "model.add(Conv1D(filters=512, kernel_size=3, padding=\"same\", activation=\"relu\"))\n",
        "model.add(MaxPool1D(pool_size=1,strides=2))\n",
        "\n",
        "model.add(Flatten())\n",
        "model.add(Dense(units=4096,activation=\"relu\"))\n",
        "model.add(Dense(units=4096,activation=\"relu\"))\n",
        "model.add(Dense(units=1))\n",
        "\n",
        "\n",
        "#from keras.callbacks import ModelCheckpoint, EarlyStopping\n",
        "#checkpoint = ModelCheckpoint(\"vgg19_1.h5\", monitor='val_accuracy', verbose=1, save_best_only=True, save_weights_only=False, mode='auto', save_freq=1)\n",
        "#early = EarlyStopping(monitor='val_accuracy', min_delta=0, patience=20, verbose=1, mode='auto')\n",
        "\n",
        "opt = Adam(learning_rate=0.0001)\n",
        "\n",
        "model.compile(optimizer=opt, loss = 'mse', metrics=['mae'])\n",
        "hist = model.fit(X_train, y_train, epochs=300, validation_data=(X_test, y_test))\n",
        "#hist = model.fit(train_features, train_labels, validation_data= (test_features, test_labels),epochs=500,callbacks=early)\n",
        "\n"
      ],
      "metadata": {
        "id": "jZOhKj8sxgPu"
      },
      "execution_count": null,
      "outputs": []
    },
    {
      "cell_type": "code",
      "source": [
        "import pandas as pd\n",
        "import matplotlib.pyplot as plt\n",
        "import numpy as np\n",
        "\n",
        "# Data preprocessing\n",
        "from sklearn.preprocessing import StandardScaler\n",
        "from sklearn.model_selection import train_test_split\n",
        "\n",
        "df = pd.read_csv('/content/main_tfm_ML.csv')\n",
        "#df.info()\n",
        "\n",
        "# drop any rows with missing values\n",
        "#df.dropna(axis=0, inplace=True)\n",
        "#df.info()\n",
        "\n",
        "# convert categorical variable into dummy variables\n",
        "#df = pd.get_dummies(df, columns=['ocean_proximity'])\n",
        "#df.info()\n",
        "\n",
        "from keras.backend import reshape\n",
        "# our target variable is 'Prestress'\n",
        "y = df['RMS Traction(Pa)']\n",
        "X = df.drop('RMS Traction(Pa)', axis=1)\n",
        "#print(X.shape, y.shape)\n",
        "\n",
        "\n",
        "# convert to numpy array\n",
        "X = np.array(X)\n",
        "y = np.array(y)\n",
        "\n",
        "#Standarzing the variable\n",
        "y = y.reshape(-1,1)\n",
        "\n",
        "StdS_X = StandardScaler()\n",
        "StdS_y = StandardScaler()\n",
        "X = StdS_X.fit_transform(X)\n",
        "y = StdS_y.fit_transform(y)\n",
        "y = y.reshape(1,-1)\n",
        "\n",
        "print(y)\n"
      ],
      "metadata": {
        "colab": {
          "base_uri": "https://localhost:8080/"
        },
        "id": "a-3MjPqjoQZG",
        "outputId": "907c92ba-db63-4203-a278-c97141f45113"
      },
      "execution_count": null,
      "outputs": [
        {
          "output_type": "stream",
          "name": "stdout",
          "text": [
            "[[-0.31969864  4.20764188  0.88579013  1.72350925  0.19957803  4.41819748\n",
            "   1.32526974  1.55987678  1.62378183  1.88472021 -0.5261325  -0.4305824\n",
            "  -0.31302925 -0.20308518 -0.31036104 -0.28794864 -0.54452605 -0.45220623\n",
            "  -0.15319719 -0.19528936 -0.25741067 -0.23172295 -0.32940645 -0.592201\n",
            "  -0.61888622 -0.42145498 -0.60510198 -0.56211101 -0.53511497 -0.60596222\n",
            "  -0.62723416 -0.62677484 -0.39557483 -0.2014148  -0.31563475 -0.46484342\n",
            "  -0.36939362  1.88385297  0.41093023  0.03795498 -0.20426355  0.64291006\n",
            "   0.59492812  0.10701832  0.08278599  0.03432754  1.25227265  1.73556063\n",
            "  -0.61565336 -0.59076608 -0.59574998 -0.60732882 -0.61766754 -0.53095206\n",
            "  -0.29875516 -0.63164804 -0.60426517 -0.6381302  -0.62841773 -0.57119826\n",
            "  -0.64296512 -0.54831964 -0.53518519 -0.54517529 -0.29442001 -0.27118516\n",
            "  -0.21081796 -0.38514611 -0.28085673 -0.50538993 -0.62611054 -0.57751361\n",
            "  -0.55672625]]\n"
          ]
        }
      ]
    }
  ]
}